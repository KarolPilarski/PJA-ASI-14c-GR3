{
 "nbformat": 4,
 "nbformat_minor": 0,
 "metadata": {
  "colab": {
   "provenance": []
  },
  "kernelspec": {
   "name": "python3",
   "display_name": "Python 3"
  },
  "language_info": {
   "name": "python"
  }
 },
 "cells": [
  {
   "cell_type": "markdown",
   "source": [
    "## Wczytywanie danych\n"
   ],
   "metadata": {
    "id": "j-jAl1OC4CsV"
   }
  },
  {
   "cell_type": "code",
   "source": [
    "from google.colab import files\n",
    "import pandas as pd\n",
    "import numpy as np\n",
    "\n",
    "\n",
    "uploaded = files.upload()\n",
    "filename = next(iter(uploaded))\n",
    "\n",
    "df = pd.read_csv(filename)\n"
   ],
   "metadata": {
    "id": "__LMmORr47E6",
    "colab": {
     "base_uri": "https://localhost:8080/",
     "height": 73
    },
    "outputId": "e8fafa78-272f-48a4-e3ff-467c057cf25a",
    "jupyter": {
     "is_executing": true
    }
   },
   "outputs": [],
   "execution_count": null
  },
  {
   "cell_type": "code",
   "source": [
    "# Wczytanie danych do zmiennej, gdy plik został już wcześniej przesłany\n",
    "df = pd.read_csv('/content/tortilla_prices_raw.csv')"
   ],
   "metadata": {
    "id": "r6wszJ1oe65M",
    "jupyter": {
     "is_executing": true
    }
   },
   "outputs": [],
   "execution_count": null
  },
  {
   "cell_type": "markdown",
   "source": [
    "## Wypisanie próbki wczytanych danych"
   ],
   "metadata": {
    "id": "GsF2JGInWQDs"
   }
  },
  {
   "cell_type": "code",
   "source": [
    "print(df.head())"
   ],
   "metadata": {
    "id": "DfMi_057-mxt",
    "colab": {
     "base_uri": "https://localhost:8080/"
    },
    "outputId": "88f29aa8-89e4-4724-c470-e511913dacfb"
   },
   "execution_count": 98,
   "outputs": [
    {
     "output_type": "stream",
     "name": "stdout",
     "text": [
      "                 State            City  Year  Month  Day         Store type  \\\n",
      "0       Aguascalientes  Aguascalientes  2007      1   10  Mom and Pop Store   \n",
      "1      Baja California        Mexicali  2007      1   10  Mom and Pop Store   \n",
      "2      Baja California         Tijuana  2007      1   10  Mom and Pop Store   \n",
      "3  Baja California Sur          La Paz  2007      1   10  Mom and Pop Store   \n",
      "4             Campeche        Campeche  2007      1   10  Mom and Pop Store   \n",
      "\n",
      "   Price per kilogram  \n",
      "0                 9.9  \n",
      "1                 NaN  \n",
      "2                10.0  \n",
      "3                10.0  \n",
      "4                10.0  \n"
     ]
    }
   ]
  },
  {
   "cell_type": "markdown",
   "source": [
    "## Przetwarzanie wstępne danych"
   ],
   "metadata": {
    "id": "1cy0_IKOWIA1"
   }
  },
  {
   "cell_type": "code",
   "source": [
    "df.isnull().any()"
   ],
   "metadata": {
    "colab": {
     "base_uri": "https://localhost:8080/"
    },
    "id": "HhzZpeD3WYuv",
    "outputId": "a847056c-30c3-44df-9f04-62723114034f"
   },
   "execution_count": 99,
   "outputs": [
    {
     "output_type": "execute_result",
     "data": {
      "text/plain": [
       "State                 False\n",
       "City                  False\n",
       "Year                  False\n",
       "Month                 False\n",
       "Day                   False\n",
       "Store type            False\n",
       "Price per kilogram     True\n",
       "dtype: bool"
      ]
     },
     "metadata": {},
     "execution_count": 99
    }
   ]
  },
  {
   "cell_type": "code",
   "source": [
    "# Display null count grouped by columns\n",
    "print(\"Rows:\", df.shape[0]);\n",
    "\n",
    "print(\"\\nColumn \\t\\tnull count\");\n",
    "print(\"--------------------------\");\n",
    "print(df.isnull().sum());"
   ],
   "metadata": {
    "colab": {
     "base_uri": "https://localhost:8080/"
    },
    "id": "-BCNgcyFilRD",
    "outputId": "e507d23a-b88b-4c79-b3b7-ce2f8ab70c47"
   },
   "execution_count": 100,
   "outputs": [
    {
     "output_type": "stream",
     "name": "stdout",
     "text": [
      "Rows: 278886\n",
      "\n",
      "Column \t\tnull count\n",
      "--------------------------\n",
      "State                    0\n",
      "City                     0\n",
      "Year                     0\n",
      "Month                    0\n",
      "Day                      0\n",
      "Store type               0\n",
      "Price per kilogram    6390\n",
      "dtype: int64\n"
     ]
    }
   ]
  },
  {
   "cell_type": "markdown",
   "source": [
    "Usunięcie wierszy bez wartości w kolumnie `Price per kilogram`\n",
    "\n"
   ],
   "metadata": {
    "id": "FCkhBTIwce8Y"
   }
  },
  {
   "cell_type": "code",
   "source": [
    "df = df.dropna(subset=['Price per kilogram'])"
   ],
   "metadata": {
    "id": "Dx1OXWU5XAHK"
   },
   "execution_count": 101,
   "outputs": []
  },
  {
   "cell_type": "code",
   "source": [
    "df.isnull().any()"
   ],
   "metadata": {
    "colab": {
     "base_uri": "https://localhost:8080/"
    },
    "id": "njFBm_r5Yszg",
    "outputId": "0a9ed5ab-d0ea-4506-cd8e-2b0e04f059da"
   },
   "execution_count": 102,
   "outputs": [
    {
     "output_type": "execute_result",
     "data": {
      "text/plain": [
       "State                 False\n",
       "City                  False\n",
       "Year                  False\n",
       "Month                 False\n",
       "Day                   False\n",
       "Store type            False\n",
       "Price per kilogram    False\n",
       "dtype: bool"
      ]
     },
     "metadata": {},
     "execution_count": 102
    }
   ]
  },
  {
   "cell_type": "markdown",
   "source": [
    "Wyświetlenie wierszy z wartością `Price per kilogram` mniejszą lub równą 0"
   ],
   "metadata": {
    "id": "2nNKWsdCgXHW"
   }
  },
  {
   "cell_type": "code",
   "source": [
    "print(df[df['Price per kilogram'] <= 0])"
   ],
   "metadata": {
    "colab": {
     "base_uri": "https://localhost:8080/"
    },
    "id": "EM5vo-DHgRRc",
    "outputId": "7c5cbd16-7897-4d60-8732-9a9860db922d"
   },
   "execution_count": 103,
   "outputs": [
    {
     "output_type": "stream",
     "name": "stdout",
     "text": [
      "            State      City  Year  Month  Day        Store type  \\\n",
      "45191  Guanajuato  Irapuato  2009      9    9  Big Retail Store   \n",
      "\n",
      "       Price per kilogram  \n",
      "45191                 0.0  \n"
     ]
    }
   ]
  },
  {
   "cell_type": "code",
   "source": [
    "df.drop(df.index[df['Price per kilogram'] == 0], inplace = True)"
   ],
   "metadata": {
    "id": "qHECroQig6ON"
   },
   "execution_count": 104,
   "outputs": []
  },
  {
   "cell_type": "code",
   "source": [
    "print(df.head())"
   ],
   "metadata": {
    "colab": {
     "base_uri": "https://localhost:8080/"
    },
    "id": "5IhjYqwPXIzp",
    "outputId": "8db90032-db08-4908-e40d-10fb3f239000"
   },
   "execution_count": 105,
   "outputs": [
    {
     "output_type": "stream",
     "name": "stdout",
     "text": [
      "                 State            City  Year  Month  Day         Store type  \\\n",
      "0       Aguascalientes  Aguascalientes  2007      1   10  Mom and Pop Store   \n",
      "2      Baja California         Tijuana  2007      1   10  Mom and Pop Store   \n",
      "3  Baja California Sur          La Paz  2007      1   10  Mom and Pop Store   \n",
      "4             Campeche        Campeche  2007      1   10  Mom and Pop Store   \n",
      "5             Coahuila  Piedras Negras  2007      1   10  Mom and Pop Store   \n",
      "\n",
      "   Price per kilogram  \n",
      "0                 9.9  \n",
      "2                10.0  \n",
      "3                10.0  \n",
      "4                10.0  \n",
      "5                10.0  \n"
     ]
    }
   ]
  },
  {
   "cell_type": "markdown",
   "source": [
    "Kodowanie etykiet"
   ],
   "metadata": {
    "id": "9Ha7nFDDcaxy"
   }
  },
  {
   "cell_type": "code",
   "source": [
    "from sklearn.preprocessing import LabelEncoder\n",
    "\n",
    "encoder = LabelEncoder()\n",
    "df['State'] = encoder.fit_transform(df['State'])\n",
    "df['City'] = encoder.fit_transform(df['City'])\n",
    "df['Store type'] = encoder.fit_transform(df['Store type'])"
   ],
   "metadata": {
    "id": "9mScFgSrbS1Y"
   },
   "execution_count": 106,
   "outputs": []
  },
  {
   "cell_type": "code",
   "source": [
    "print(df.head())"
   ],
   "metadata": {
    "colab": {
     "base_uri": "https://localhost:8080/"
    },
    "id": "NCIfnfFAjWuF",
    "outputId": "b83c32aa-3653-4086-c20c-b3f291a2235b"
   },
   "execution_count": 107,
   "outputs": [
    {
     "output_type": "stream",
     "name": "stdout",
     "text": [
      "   State  City  Year  Month  Day  Store type  Price per kilogram\n",
      "0      0     1  2007      1   10           1                 9.9\n",
      "2      1    43  2007      1   10           1                10.0\n",
      "3      2    21  2007      1   10           1                10.0\n",
      "4      3     2  2007      1   10           1                10.0\n",
      "5      6    32  2007      1   10           1                10.0\n"
     ]
    }
   ]
  },
  {
   "cell_type": "markdown",
   "source": [
    "## Ewaluacja danych\n",
    "\n"
   ],
   "metadata": {
    "id": "fjDXnKxLXIFx"
   }
  },
  {
   "cell_type": "code",
   "source": [
    "print(round(df['Price per kilogram'].describe(), 2))"
   ],
   "metadata": {
    "id": "VW2kGSvDZaVm",
    "colab": {
     "base_uri": "https://localhost:8080/"
    },
    "outputId": "ef8ad9b4-4d85-42a1-cbb8-b0583db15bb5"
   },
   "execution_count": 108,
   "outputs": [
    {
     "output_type": "stream",
     "name": "stdout",
     "text": [
      "count    272495.00\n",
      "mean         12.05\n",
      "std           4.34\n",
      "min           3.87\n",
      "25%           9.57\n",
      "50%          11.17\n",
      "75%          14.00\n",
      "max          31.00\n",
      "Name: Price per kilogram, dtype: float64\n"
     ]
    }
   ]
  },
  {
   "cell_type": "code",
   "source": [
    "import seaborn as sns\n",
    "import matplotlib.pyplot as plt\n",
    "\n",
    "numeric_df = df.select_dtypes(include=[np.number])\n",
    "\n",
    "corr_matrix = numeric_df.corr()\n",
    "\n",
    "sns.heatmap(corr_matrix, annot=True, fmt=\".2f\", cmap='coolwarm')\n",
    "plt.title('Macierz korelacji')\n",
    "plt.show()"
   ],
   "metadata": {
    "colab": {
     "base_uri": "https://localhost:8080/",
     "height": 565
    },
    "id": "gbwXS22_aePS",
    "outputId": "878d24b8-3c13-4a38-bba7-d2f2fb109941"
   },
   "execution_count": 109,
   "outputs": [
    {
     "output_type": "display_data",
     "data": {
      "text/plain": [
       "<Figure size 640x480 with 2 Axes>"
      ],
      "image/png": "[encoded data removed]"
     },
     "metadata": {}
    }
   ]
  },
  {
   "cell_type": "code",
   "source": [
    "y_describe = df[\"Price per kilogram\"].groupby([df[\"Year\"]]).describe()\n",
    "y_describe"
   ],
   "metadata": {
    "colab": {
     "base_uri": "https://localhost:8080/",
     "height": 646
    },
    "id": "T_SAMxYUdBvM",
    "outputId": "99ebefa8-59e3-4ecf-847c-ce39144c7c3f"
   },
   "execution_count": 110,
   "outputs": [
    {
     "output_type": "execute_result",
     "data": {
      "text/plain": [
       "        count       mean       std    min    25%     50%      75%    max\n",
       "Year                                                                    \n",
       "2007  16124.0   7.399119  1.757575   3.87   5.80   7.200   8.7900  12.00\n",
       "2008  15726.0   7.598889  1.936195   4.03   5.80   7.630   9.5000  13.00\n",
       "2009  15183.0   8.095482  2.073047   4.47   6.27   7.770  10.0000  13.00\n",
       "2010  15645.0   8.670437  2.170485   5.07   6.87   8.000  11.0000  13.80\n",
       "2011  15750.0   9.737406  2.345454   5.80   7.67   8.970  12.0000  15.50\n",
       "2012  17032.0  11.265235  2.073997   7.33   9.60  10.800  13.2500  16.50\n",
       "2013  16696.0  11.710039  1.971735   7.33  10.23  11.200  13.5000  17.33\n",
       "2014  16938.0  11.619433  2.109095   7.50   9.93  10.900  13.5500  17.40\n",
       "2015  16576.0  11.632321  2.179127   7.50   9.97  10.630  14.0000  18.00\n",
       "2016  16537.0  11.855625  2.353509   7.50  10.00  10.900  14.0000  19.00\n",
       "2017  16092.0  12.520789  2.603210   7.50  10.23  11.700  14.8800  19.83\n",
       "2018  16304.0  12.892546  2.743423   9.20  10.50  12.000  15.5000  20.17\n",
       "2019  15306.0  13.419217  2.892402   9.33  10.87  12.470  15.8300  21.17\n",
       "2020  12476.0  14.033255  3.011346   9.50  11.50  13.000  16.6000  22.67\n",
       "2021  15566.0  15.273879  3.634126   9.63  12.23  13.570  18.5375  25.33\n",
       "2022  15896.0  17.333422  4.597796  10.10  13.37  15.305  21.3300  30.00\n",
       "2023  15950.0  19.007899  5.637380  10.50  13.80  17.290  24.0000  30.83\n",
       "2024   2698.0  19.426483  5.695479  11.60  13.97  17.680  24.6500  31.00"
      ],
      "text/html": [
       "\n",
       "  <div id=\"df-906c16b3-205b-4589-8d7d-29cea3466908\" class=\"colab-df-container\">\n",
       "    <div>\n",
       "<style scoped>\n",
       "    .dataframe tbody tr th:only-of-type {\n",
       "        vertical-align: middle;\n",
       "    }\n",
       "\n",
       "    .dataframe tbody tr th {\n",
       "        vertical-align: top;\n",
       "    }\n",
       "\n",
       "    .dataframe thead th {\n",
       "        text-align: right;\n",
       "    }\n",
       "</style>\n",
       "<table border=\"1\" class=\"dataframe\">\n",
       "  <thead>\n",
       "    <tr style=\"text-align: right;\">\n",
       "      <th></th>\n",
       "      <th>count</th>\n",
       "      <th>mean</th>\n",
       "      <th>std</th>\n",
       "      <th>min</th>\n",
       "      <th>25%</th>\n",
       "      <th>50%</th>\n",
       "      <th>75%</th>\n",
       "      <th>max</th>\n",
       "    </tr>\n",
       "    <tr>\n",
       "      <th>Year</th>\n",
       "      <th></th>\n",
       "      <th></th>\n",
       "      <th></th>\n",
       "      <th></th>\n",
       "      <th></th>\n",
       "      <th></th>\n",
       "      <th></th>\n",
       "      <th></th>\n",
       "    </tr>\n",
       "  </thead>\n",
       "  <tbody>\n",
       "    <tr>\n",
       "      <th>2007</th>\n",
       "      <td>16124.0</td>\n",
       "      <td>7.399119</td>\n",
       "      <td>1.757575</td>\n",
       "      <td>3.87</td>\n",
       "      <td>5.80</td>\n",
       "      <td>7.200</td>\n",
       "      <td>8.7900</td>\n",
       "      <td>12.00</td>\n",
       "    </tr>\n",
       "    <tr>\n",
       "      <th>2008</th>\n",
       "      <td>15726.0</td>\n",
       "      <td>7.598889</td>\n",
       "      <td>1.936195</td>\n",
       "      <td>4.03</td>\n",
       "      <td>5.80</td>\n",
       "      <td>7.630</td>\n",
       "      <td>9.5000</td>\n",
       "      <td>13.00</td>\n",
       "    </tr>\n",
       "    <tr>\n",
       "      <th>2009</th>\n",
       "      <td>15183.0</td>\n",
       "      <td>8.095482</td>\n",
       "      <td>2.073047</td>\n",
       "      <td>4.47</td>\n",
       "      <td>6.27</td>\n",
       "      <td>7.770</td>\n",
       "      <td>10.0000</td>\n",
       "      <td>13.00</td>\n",
       "    </tr>\n",
       "    <tr>\n",
       "      <th>2010</th>\n",
       "      <td>15645.0</td>\n",
       "      <td>8.670437</td>\n",
       "      <td>2.170485</td>\n",
       "      <td>5.07</td>\n",
       "      <td>6.87</td>\n",
       "      <td>8.000</td>\n",
       "      <td>11.0000</td>\n",
       "      <td>13.80</td>\n",
       "    </tr>\n",
       "    <tr>\n",
       "      <th>2011</th>\n",
       "      <td>15750.0</td>\n",
       "      <td>9.737406</td>\n",
       "      <td>2.345454</td>\n",
       "      <td>5.80</td>\n",
       "      <td>7.67</td>\n",
       "      <td>8.970</td>\n",
       "      <td>12.0000</td>\n",
       "      <td>15.50</td>\n",
       "    </tr>\n",
       "    <tr>\n",
       "      <th>2012</th>\n",
       "      <td>17032.0</td>\n",
       "      <td>11.265235</td>\n",
       "      <td>2.073997</td>\n",
       "      <td>7.33</td>\n",
       "      <td>9.60</td>\n",
       "      <td>10.800</td>\n",
       "      <td>13.2500</td>\n",
       "      <td>16.50</td>\n",
       "    </tr>\n",
       "    <tr>\n",
       "      <th>2013</th>\n",
       "      <td>16696.0</td>\n",
       "      <td>11.710039</td>\n",
       "      <td>1.971735</td>\n",
       "      <td>7.33</td>\n",
       "      <td>10.23</td>\n",
       "      <td>11.200</td>\n",
       "      <td>13.5000</td>\n",
       "      <td>17.33</td>\n",
       "    </tr>\n",
       "    <tr>\n",
       "      <th>2014</th>\n",
       "      <td>16938.0</td>\n",
       "      <td>11.619433</td>\n",
       "      <td>2.109095</td>\n",
       "      <td>7.50</td>\n",
       "      <td>9.93</td>\n",
       "      <td>10.900</td>\n",
       "      <td>13.5500</td>\n",
       "      <td>17.40</td>\n",
       "    </tr>\n",
       "    <tr>\n",
       "      <th>2015</th>\n",
       "      <td>16576.0</td>\n",
       "      <td>11.632321</td>\n",
       "      <td>2.179127</td>\n",
       "      <td>7.50</td>\n",
       "      <td>9.97</td>\n",
       "      <td>10.630</td>\n",
       "      <td>14.0000</td>\n",
       "      <td>18.00</td>\n",
       "    </tr>\n",
       "    <tr>\n",
       "      <th>2016</th>\n",
       "      <td>16537.0</td>\n",
       "      <td>11.855625</td>\n",
       "      <td>2.353509</td>\n",
       "      <td>7.50</td>\n",
       "      <td>10.00</td>\n",
       "      <td>10.900</td>\n",
       "      <td>14.0000</td>\n",
       "      <td>19.00</td>\n",
       "    </tr>\n",
       "    <tr>\n",
       "      <th>2017</th>\n",
       "      <td>16092.0</td>\n",
       "      <td>12.520789</td>\n",
       "      <td>2.603210</td>\n",
       "      <td>7.50</td>\n",
       "      <td>10.23</td>\n",
       "      <td>11.700</td>\n",
       "      <td>14.8800</td>\n",
       "      <td>19.83</td>\n",
       "    </tr>\n",
       "    <tr>\n",
       "      <th>2018</th>\n",
       "      <td>16304.0</td>\n",
       "      <td>12.892546</td>\n",
       "      <td>2.743423</td>\n",
       "      <td>9.20</td>\n",
       "      <td>10.50</td>\n",
       "      <td>12.000</td>\n",
       "      <td>15.5000</td>\n",
       "      <td>20.17</td>\n",
       "    </tr>\n",
       "    <tr>\n",
       "      <th>2019</th>\n",
       "      <td>15306.0</td>\n",
       "      <td>13.419217</td>\n",
       "      <td>2.892402</td>\n",
       "      <td>9.33</td>\n",
       "      <td>10.87</td>\n",
       "      <td>12.470</td>\n",
       "      <td>15.8300</td>\n",
       "      <td>21.17</td>\n",
       "    </tr>\n",
       "    <tr>\n",
       "      <th>2020</th>\n",
       "      <td>12476.0</td>\n",
       "      <td>14.033255</td>\n",
       "      <td>3.011346</td>\n",
       "      <td>9.50</td>\n",
       "      <td>11.50</td>\n",
       "      <td>13.000</td>\n",
       "      <td>16.6000</td>\n",
       "      <td>22.67</td>\n",
       "    </tr>\n",
       "    <tr>\n",
       "      <th>2021</th>\n",
       "      <td>15566.0</td>\n",
       "      <td>15.273879</td>\n",
       "      <td>3.634126</td>\n",
       "      <td>9.63</td>\n",
       "      <td>12.23</td>\n",
       "      <td>13.570</td>\n",
       "      <td>18.5375</td>\n",
       "      <td>25.33</td>\n",
       "    </tr>\n",
       "    <tr>\n",
       "      <th>2022</th>\n",
       "      <td>15896.0</td>\n",
       "      <td>17.333422</td>\n",
       "      <td>4.597796</td>\n",
       "      <td>10.10</td>\n",
       "      <td>13.37</td>\n",
       "      <td>15.305</td>\n",
       "      <td>21.3300</td>\n",
       "      <td>30.00</td>\n",
       "    </tr>\n",
       "    <tr>\n",
       "      <th>2023</th>\n",
       "      <td>15950.0</td>\n",
       "      <td>19.007899</td>\n",
       "      <td>5.637380</td>\n",
       "      <td>10.50</td>\n",
       "      <td>13.80</td>\n",
       "      <td>17.290</td>\n",
       "      <td>24.0000</td>\n",
       "      <td>30.83</td>\n",
       "    </tr>\n",
       "    <tr>\n",
       "      <th>2024</th>\n",
       "      <td>2698.0</td>\n",
       "      <td>19.426483</td>\n",
       "      <td>5.695479</td>\n",
       "      <td>11.60</td>\n",
       "      <td>13.97</td>\n",
       "      <td>17.680</td>\n",
       "      <td>24.6500</td>\n",
       "      <td>31.00</td>\n",
       "    </tr>\n",
       "  </tbody>\n",
       "</table>\n",
       "</div>\n",
       "    <div class=\"colab-df-buttons\">\n",
       "\n",
       "  <div class=\"colab-df-container\">\n",
       "    <button class=\"colab-df-convert\" onclick=\"convertToInteractive('df-906c16b3-205b-4589-8d7d-29cea3466908')\"\n",
       "            title=\"Convert this dataframe to an interactive table.\"\n",
       "            style=\"display:none;\">\n",
       "\n",
       "  <svg xmlns=\"http://www.w3.org/2000/svg\" height=\"24px\" viewBox=\"0 -960 960 960\">\n",
       "    <path d=\"M120-120v-720h720v720H120Zm60-500h600v-160H180v160Zm220 220h160v-160H400v160Zm0 220h160v-160H400v160ZM180-400h160v-160H180v160Zm440 0h160v-160H620v160ZM180-180h160v-160H180v160Zm440 0h160v-160H620v160Z\"/>\n",
       "  </svg>\n",
       "    </button>\n",
       "\n",
       "  <style>\n",
       "    .colab-df-container {\n",
       "      display:flex;\n",
       "      gap: 12px;\n",
       "    }\n",
       "\n",
       "    .colab-df-convert {\n",
       "      background-color: #E8F0FE;\n",
       "      border: none;\n",
       "      border-radius: 50%;\n",
       "      cursor: pointer;\n",
       "      display: none;\n",
       "      fill: #1967D2;\n",
       "      height: 32px;\n",
       "      padding: 0 0 0 0;\n",
       "      width: 32px;\n",
       "    }\n",
       "\n",
       "    .colab-df-convert:hover {\n",
       "      background-color: #E2EBFA;\n",
       "      box-shadow: 0px 1px 2px rgba(60, 64, 67, 0.3), 0px 1px 3px 1px rgba(60, 64, 67, 0.15);\n",
       "      fill: #174EA6;\n",
       "    }\n",
       "\n",
       "    .colab-df-buttons div {\n",
       "      margin-bottom: 4px;\n",
       "    }\n",
       "\n",
       "    [theme=dark] .colab-df-convert {\n",
       "      background-color: #3B4455;\n",
       "      fill: #D2E3FC;\n",
       "    }\n",
       "\n",
       "    [theme=dark] .colab-df-convert:hover {\n",
       "      background-color: #434B5C;\n",
       "      box-shadow: 0px 1px 3px 1px rgba(0, 0, 0, 0.15);\n",
       "      filter: drop-shadow(0px 1px 2px rgba(0, 0, 0, 0.3));\n",
       "      fill: #FFFFFF;\n",
       "    }\n",
       "  </style>\n",
       "\n",
       "    <script>\n",
       "      const buttonEl =\n",
       "        document.querySelector('#df-906c16b3-205b-4589-8d7d-29cea3466908 button.colab-df-convert');\n",
       "      buttonEl.style.display =\n",
       "        google.colab.kernel.accessAllowed ? 'block' : 'none';\n",
       "\n",
       "      async function convertToInteractive(key) {\n",
       "        const element = document.querySelector('#df-906c16b3-205b-4589-8d7d-29cea3466908');\n",
       "        const dataTable =\n",
       "          await google.colab.kernel.invokeFunction('convertToInteractive',\n",
       "                                                    [key], {});\n",
       "        if (!dataTable) return;\n",
       "\n",
       "        const docLinkHtml = 'Like what you see? Visit the ' +\n",
       "          '<a target=\"_blank\" href=https://colab.research.google.com/notebooks/data_table.ipynb>data table notebook</a>'\n",
       "          + ' to learn more about interactive tables.';\n",
       "        element.innerHTML = '';\n",
       "        dataTable['output_type'] = 'display_data';\n",
       "        await google.colab.output.renderOutput(dataTable, element);\n",
       "        const docLink = document.createElement('div');\n",
       "        docLink.innerHTML = docLinkHtml;\n",
       "        element.appendChild(docLink);\n",
       "      }\n",
       "    </script>\n",
       "  </div>\n",
       "\n",
       "\n",
       "<div id=\"df-0ca82300-89ed-4193-9a49-a858a2160b33\">\n",
       "  <button class=\"colab-df-quickchart\" onclick=\"quickchart('df-0ca82300-89ed-4193-9a49-a858a2160b33')\"\n",
       "            title=\"Suggest charts\"\n",
       "            style=\"display:none;\">\n",
       "\n",
       "<svg xmlns=\"http://www.w3.org/2000/svg\" height=\"24px\"viewBox=\"0 0 24 24\"\n",
       "     width=\"24px\">\n",
       "    <g>\n",
       "        <path d=\"M19 3H5c-1.1 0-2 .9-2 2v14c0 1.1.9 2 2 2h14c1.1 0 2-.9 2-2V5c0-1.1-.9-2-2-2zM9 17H7v-7h2v7zm4 0h-2V7h2v10zm4 0h-2v-4h2v4z\"/>\n",
       "    </g>\n",
       "</svg>\n",
       "  </button>\n",
       "\n",
       "<style>\n",
       "  .colab-df-quickchart {\n",
       "      --bg-color: #E8F0FE;\n",
       "      --fill-color: #1967D2;\n",
       "      --hover-bg-color: #E2EBFA;\n",
       "      --hover-fill-color: #174EA6;\n",
       "      --disabled-fill-color: #AAA;\n",
       "      --disabled-bg-color: #DDD;\n",
       "  }\n",
       "\n",
       "  [theme=dark] .colab-df-quickchart {\n",
       "      --bg-color: #3B4455;\n",
       "      --fill-color: #D2E3FC;\n",
       "      --hover-bg-color: #434B5C;\n",
       "      --hover-fill-color: #FFFFFF;\n",
       "      --disabled-bg-color: #3B4455;\n",
       "      --disabled-fill-color: #666;\n",
       "  }\n",
       "\n",
       "  .colab-df-quickchart {\n",
       "    background-color: var(--bg-color);\n",
       "    border: none;\n",
       "    border-radius: 50%;\n",
       "    cursor: pointer;\n",
       "    display: none;\n",
       "    fill: var(--fill-color);\n",
       "    height: 32px;\n",
       "    padding: 0;\n",
       "    width: 32px;\n",
       "  }\n",
       "\n",
       "  .colab-df-quickchart:hover {\n",
       "    background-color: var(--hover-bg-color);\n",
       "    box-shadow: 0 1px 2px rgba(60, 64, 67, 0.3), 0 1px 3px 1px rgba(60, 64, 67, 0.15);\n",
       "    fill: var(--button-hover-fill-color);\n",
       "  }\n",
       "\n",
       "  .colab-df-quickchart-complete:disabled,\n",
       "  .colab-df-quickchart-complete:disabled:hover {\n",
       "    background-color: var(--disabled-bg-color);\n",
       "    fill: var(--disabled-fill-color);\n",
       "    box-shadow: none;\n",
       "  }\n",
       "\n",
       "  .colab-df-spinner {\n",
       "    border: 2px solid var(--fill-color);\n",
       "    border-color: transparent;\n",
       "    border-bottom-color: var(--fill-color);\n",
       "    animation:\n",
       "      spin 1s steps(1) infinite;\n",
       "  }\n",
       "\n",
       "  @keyframes spin {\n",
       "    0% {\n",
       "      border-color: transparent;\n",
       "      border-bottom-color: var(--fill-color);\n",
       "      border-left-color: var(--fill-color);\n",
       "    }\n",
       "    20% {\n",
       "      border-color: transparent;\n",
       "      border-left-color: var(--fill-color);\n",
       "      border-top-color: var(--fill-color);\n",
       "    }\n",
       "    30% {\n",
       "      border-color: transparent;\n",
       "      border-left-color: var(--fill-color);\n",
       "      border-top-color: var(--fill-color);\n",
       "      border-right-color: var(--fill-color);\n",
       "    }\n",
       "    40% {\n",
       "      border-color: transparent;\n",
       "      border-right-color: var(--fill-color);\n",
       "      border-top-color: var(--fill-color);\n",
       "    }\n",
       "    60% {\n",
       "      border-color: transparent;\n",
       "      border-right-color: var(--fill-color);\n",
       "    }\n",
       "    80% {\n",
       "      border-color: transparent;\n",
       "      border-right-color: var(--fill-color);\n",
       "      border-bottom-color: var(--fill-color);\n",
       "    }\n",
       "    90% {\n",
       "      border-color: transparent;\n",
       "      border-bottom-color: var(--fill-color);\n",
       "    }\n",
       "  }\n",
       "</style>\n",
       "\n",
       "  <script>\n",
       "    async function quickchart(key) {\n",
       "      const quickchartButtonEl =\n",
       "        document.querySelector('#' + key + ' button');\n",
       "      quickchartButtonEl.disabled = true;  // To prevent multiple clicks.\n",
       "      quickchartButtonEl.classList.add('colab-df-spinner');\n",
       "      try {\n",
       "        const charts = await google.colab.kernel.invokeFunction(\n",
       "            'suggestCharts', [key], {});\n",
       "      } catch (error) {\n",
       "        console.error('Error during call to suggestCharts:', error);\n",
       "      }\n",
       "      quickchartButtonEl.classList.remove('colab-df-spinner');\n",
       "      quickchartButtonEl.classList.add('colab-df-quickchart-complete');\n",
       "    }\n",
       "    (() => {\n",
       "      let quickchartButtonEl =\n",
       "        document.querySelector('#df-0ca82300-89ed-4193-9a49-a858a2160b33 button');\n",
       "      quickchartButtonEl.style.display =\n",
       "        google.colab.kernel.accessAllowed ? 'block' : 'none';\n",
       "    })();\n",
       "  </script>\n",
       "</div>\n",
       "    </div>\n",
       "  </div>\n"
      ],
      "application/vnd.google.colaboratory.intrinsic+json": {
       "type": "dataframe",
       "variable_name": "y_describe",
       "summary": "{\n  \"name\": \"y_describe\",\n  \"rows\": 18,\n  \"fields\": [\n    {\n      \"column\": \"Year\",\n      \"properties\": {\n        \"dtype\": \"number\",\n        \"std\": 5,\n        \"min\": 2007,\n        \"max\": 2024,\n        \"num_unique_values\": 18,\n        \"samples\": [\n          2007,\n          2008,\n          2015\n        ],\n        \"semantic_type\": \"\",\n        \"description\": \"\"\n      }\n    },\n    {\n      \"column\": \"count\",\n      \"properties\": {\n        \"dtype\": \"number\",\n        \"std\": 3261.0538559849,\n        \"min\": 2698.0,\n        \"max\": 17032.0,\n        \"num_unique_values\": 18,\n        \"samples\": [\n          16124.0,\n          15726.0,\n          16576.0\n        ],\n        \"semantic_type\": \"\",\n        \"description\": \"\"\n      }\n    },\n    {\n      \"column\": \"mean\",\n      \"properties\": {\n        \"dtype\": \"number\",\n        \"std\": 3.6009680696453428,\n        \"min\": 7.399119325229472,\n        \"max\": 19.426482579688656,\n        \"num_unique_values\": 18,\n        \"samples\": [\n          7.399119325229472,\n          7.598889100852092,\n          11.632320825289574\n        ],\n        \"semantic_type\": \"\",\n        \"description\": \"\"\n      }\n    },\n    {\n      \"column\": \"std\",\n      \"properties\": {\n        \"dtype\": \"number\",\n        \"std\": 1.226912163707104,\n        \"min\": 1.757575483620856,\n        \"max\": 5.69547878374396,\n        \"num_unique_values\": 18,\n        \"samples\": [\n          1.757575483620856,\n          1.936194590934627,\n          2.179126798950336\n        ],\n        \"semantic_type\": \"\",\n        \"description\": \"\"\n      }\n    },\n    {\n      \"column\": \"min\",\n      \"properties\": {\n        \"dtype\": \"number\",\n        \"std\": 2.30311809101845,\n        \"min\": 3.87,\n        \"max\": 11.6,\n        \"num_unique_values\": 14,\n        \"samples\": [\n          9.5,\n          10.1,\n          3.87\n        ],\n        \"semantic_type\": \"\",\n        \"description\": \"\"\n      }\n    },\n    {\n      \"column\": \"25%\",\n      \"properties\": {\n        \"dtype\": \"number\",\n        \"std\": 2.5937771811316943,\n        \"min\": 5.8,\n        \"max\": 13.97,\n        \"num_unique_values\": 16,\n        \"samples\": [\n          5.8,\n          6.27,\n          10.23\n        ],\n        \"semantic_type\": \"\",\n        \"description\": \"\"\n      }\n    },\n    {\n      \"column\": \"50%\",\n      \"properties\": {\n        \"dtype\": \"number\",\n        \"std\": 3.0874309947039826,\n        \"min\": 7.2,\n        \"max\": 17.68,\n        \"num_unique_values\": 17,\n        \"samples\": [\n          7.2,\n          7.63,\n          10.8\n        ],\n        \"semantic_type\": \"\",\n        \"description\": \"\"\n      }\n    },\n    {\n      \"column\": \"75%\",\n      \"properties\": {\n        \"dtype\": \"number\",\n        \"std\": 4.591558361859236,\n        \"min\": 8.79,\n        \"max\": 24.65,\n        \"num_unique_values\": 17,\n        \"samples\": [\n          8.79,\n          9.5,\n          13.25\n        ],\n        \"semantic_type\": \"\",\n        \"description\": \"\"\n      }\n    },\n    {\n      \"column\": \"max\",\n      \"properties\": {\n        \"dtype\": \"number\",\n        \"std\": 6.07024256280108,\n        \"min\": 12.0,\n        \"max\": 31.0,\n        \"num_unique_values\": 17,\n        \"samples\": [\n          12.0,\n          13.0,\n          17.33\n        ],\n        \"semantic_type\": \"\",\n        \"description\": \"\"\n      }\n    }\n  ]\n}"
      }
     },
     "metadata": {},
     "execution_count": 110
    }
   ]
  },
  {
   "source": [
    "from matplotlib import pyplot as plt\n",
    "ax = plt.subplot(title='Price per kilogram', xlim=(2007, 2024), ylabel='Mexican peso ($MXN)')\n",
    "y_describe['mean'].plot(kind='line')\n",
    "y_describe['min'].plot(kind='line')\n",
    "y_describe['std'].plot(kind='line')\n",
    "plt.legend(['mean', 'min', 'std'])\n",
    "plt.ylabel = 'Price per kilogram'\n",
    "plt.gca().spines[['top', 'right']].set_visible(False)"
   ],
   "cell_type": "code",
   "metadata": {
    "colab": {
     "base_uri": "https://localhost:8080/",
     "height": 472
    },
    "id": "_0K1qTaQSv4a",
    "outputId": "ed6402d2-6895-4d58-e3b0-bf52a7c6c6bc"
   },
   "execution_count": 111,
   "outputs": [
    {
     "output_type": "display_data",
     "data": {
      "text/plain": [
       "<Figure size 640x480 with 1 Axes>"
      ],
      "image/png": "[encoded data removed]"
     },
     "metadata": {}
    }
   ]
  },
  {
   "cell_type": "code",
   "source": [
    "df[\"Price per kilogram\"].groupby([df[\"Month\"]]).describe()"
   ],
   "metadata": {
    "colab": {
     "base_uri": "https://localhost:8080/",
     "height": 458
    },
    "id": "f6IlHr5jdrtS",
    "outputId": "513931f0-682b-4595-be7d-3b25109d797d"
   },
   "execution_count": 112,
   "outputs": [
    {
     "output_type": "execute_result",
     "data": {
      "text/plain": [
       "         count       mean       std   min   25%    50%    75%    max\n",
       "Month                                                               \n",
       "1      24784.0  12.071267  4.506339  3.87  9.50  11.17  14.00  31.00\n",
       "2      22617.0  11.876005  4.538512  3.87  9.17  11.00  14.00  31.00\n",
       "3      23458.0  11.633375  4.230553  4.63  9.00  10.92  13.93  31.00\n",
       "4      23161.0  11.657633  4.134732  4.72  9.25  10.93  13.97  30.83\n",
       "5      23708.0  11.754282  4.196053  4.70  9.27  11.00  14.00  30.83\n",
       "6      22874.0  11.708271  4.263000  4.70  9.23  10.90  13.93  30.83\n",
       "7      22115.0  12.122167  4.229999  4.75  9.67  11.20  14.00  30.83\n",
       "8      22770.0  12.281928  4.280140  5.27  9.80  11.25  14.03  30.83\n",
       "9      21452.0  12.395221  4.358931  5.13  9.83  11.38  14.17  30.83\n",
       "10     23333.0  12.363685  4.349902  4.70  9.80  11.36  14.23  30.83\n",
       "11     19917.0  12.456604  4.408407  4.03  9.83  11.50  14.33  30.83\n",
       "12     22306.0  12.438145  4.397668  4.52  9.83  11.50  14.25  30.83"
      ],
      "text/html": [
       "\n",
       "  <div id=\"df-a521fd56-259a-4c71-abff-b6cf27f3cfb5\" class=\"colab-df-container\">\n",
       "    <div>\n",
       "<style scoped>\n",
       "    .dataframe tbody tr th:only-of-type {\n",
       "        vertical-align: middle;\n",
       "    }\n",
       "\n",
       "    .dataframe tbody tr th {\n",
       "        vertical-align: top;\n",
       "    }\n",
       "\n",
       "    .dataframe thead th {\n",
       "        text-align: right;\n",
       "    }\n",
       "</style>\n",
       "<table border=\"1\" class=\"dataframe\">\n",
       "  <thead>\n",
       "    <tr style=\"text-align: right;\">\n",
       "      <th></th>\n",
       "      <th>count</th>\n",
       "      <th>mean</th>\n",
       "      <th>std</th>\n",
       "      <th>min</th>\n",
       "      <th>25%</th>\n",
       "      <th>50%</th>\n",
       "      <th>75%</th>\n",
       "      <th>max</th>\n",
       "    </tr>\n",
       "    <tr>\n",
       "      <th>Month</th>\n",
       "      <th></th>\n",
       "      <th></th>\n",
       "      <th></th>\n",
       "      <th></th>\n",
       "      <th></th>\n",
       "      <th></th>\n",
       "      <th></th>\n",
       "      <th></th>\n",
       "    </tr>\n",
       "  </thead>\n",
       "  <tbody>\n",
       "    <tr>\n",
       "      <th>1</th>\n",
       "      <td>24784.0</td>\n",
       "      <td>12.071267</td>\n",
       "      <td>4.506339</td>\n",
       "      <td>3.87</td>\n",
       "      <td>9.50</td>\n",
       "      <td>11.17</td>\n",
       "      <td>14.00</td>\n",
       "      <td>31.00</td>\n",
       "    </tr>\n",
       "    <tr>\n",
       "      <th>2</th>\n",
       "      <td>22617.0</td>\n",
       "      <td>11.876005</td>\n",
       "      <td>4.538512</td>\n",
       "      <td>3.87</td>\n",
       "      <td>9.17</td>\n",
       "      <td>11.00</td>\n",
       "      <td>14.00</td>\n",
       "      <td>31.00</td>\n",
       "    </tr>\n",
       "    <tr>\n",
       "      <th>3</th>\n",
       "      <td>23458.0</td>\n",
       "      <td>11.633375</td>\n",
       "      <td>4.230553</td>\n",
       "      <td>4.63</td>\n",
       "      <td>9.00</td>\n",
       "      <td>10.92</td>\n",
       "      <td>13.93</td>\n",
       "      <td>31.00</td>\n",
       "    </tr>\n",
       "    <tr>\n",
       "      <th>4</th>\n",
       "      <td>23161.0</td>\n",
       "      <td>11.657633</td>\n",
       "      <td>4.134732</td>\n",
       "      <td>4.72</td>\n",
       "      <td>9.25</td>\n",
       "      <td>10.93</td>\n",
       "      <td>13.97</td>\n",
       "      <td>30.83</td>\n",
       "    </tr>\n",
       "    <tr>\n",
       "      <th>5</th>\n",
       "      <td>23708.0</td>\n",
       "      <td>11.754282</td>\n",
       "      <td>4.196053</td>\n",
       "      <td>4.70</td>\n",
       "      <td>9.27</td>\n",
       "      <td>11.00</td>\n",
       "      <td>14.00</td>\n",
       "      <td>30.83</td>\n",
       "    </tr>\n",
       "    <tr>\n",
       "      <th>6</th>\n",
       "      <td>22874.0</td>\n",
       "      <td>11.708271</td>\n",
       "      <td>4.263000</td>\n",
       "      <td>4.70</td>\n",
       "      <td>9.23</td>\n",
       "      <td>10.90</td>\n",
       "      <td>13.93</td>\n",
       "      <td>30.83</td>\n",
       "    </tr>\n",
       "    <tr>\n",
       "      <th>7</th>\n",
       "      <td>22115.0</td>\n",
       "      <td>12.122167</td>\n",
       "      <td>4.229999</td>\n",
       "      <td>4.75</td>\n",
       "      <td>9.67</td>\n",
       "      <td>11.20</td>\n",
       "      <td>14.00</td>\n",
       "      <td>30.83</td>\n",
       "    </tr>\n",
       "    <tr>\n",
       "      <th>8</th>\n",
       "      <td>22770.0</td>\n",
       "      <td>12.281928</td>\n",
       "      <td>4.280140</td>\n",
       "      <td>5.27</td>\n",
       "      <td>9.80</td>\n",
       "      <td>11.25</td>\n",
       "      <td>14.03</td>\n",
       "      <td>30.83</td>\n",
       "    </tr>\n",
       "    <tr>\n",
       "      <th>9</th>\n",
       "      <td>21452.0</td>\n",
       "      <td>12.395221</td>\n",
       "      <td>4.358931</td>\n",
       "      <td>5.13</td>\n",
       "      <td>9.83</td>\n",
       "      <td>11.38</td>\n",
       "      <td>14.17</td>\n",
       "      <td>30.83</td>\n",
       "    </tr>\n",
       "    <tr>\n",
       "      <th>10</th>\n",
       "      <td>23333.0</td>\n",
       "      <td>12.363685</td>\n",
       "      <td>4.349902</td>\n",
       "      <td>4.70</td>\n",
       "      <td>9.80</td>\n",
       "      <td>11.36</td>\n",
       "      <td>14.23</td>\n",
       "      <td>30.83</td>\n",
       "    </tr>\n",
       "    <tr>\n",
       "      <th>11</th>\n",
       "      <td>19917.0</td>\n",
       "      <td>12.456604</td>\n",
       "      <td>4.408407</td>\n",
       "      <td>4.03</td>\n",
       "      <td>9.83</td>\n",
       "      <td>11.50</td>\n",
       "      <td>14.33</td>\n",
       "      <td>30.83</td>\n",
       "    </tr>\n",
       "    <tr>\n",
       "      <th>12</th>\n",
       "      <td>22306.0</td>\n",
       "      <td>12.438145</td>\n",
       "      <td>4.397668</td>\n",
       "      <td>4.52</td>\n",
       "      <td>9.83</td>\n",
       "      <td>11.50</td>\n",
       "      <td>14.25</td>\n",
       "      <td>30.83</td>\n",
       "    </tr>\n",
       "  </tbody>\n",
       "</table>\n",
       "</div>\n",
       "    <div class=\"colab-df-buttons\">\n",
       "\n",
       "  <div class=\"colab-df-container\">\n",
       "    <button class=\"colab-df-convert\" onclick=\"convertToInteractive('df-a521fd56-259a-4c71-abff-b6cf27f3cfb5')\"\n",
       "            title=\"Convert this dataframe to an interactive table.\"\n",
       "            style=\"display:none;\">\n",
       "\n",
       "  <svg xmlns=\"http://www.w3.org/2000/svg\" height=\"24px\" viewBox=\"0 -960 960 960\">\n",
       "    <path d=\"M120-120v-720h720v720H120Zm60-500h600v-160H180v160Zm220 220h160v-160H400v160Zm0 220h160v-160H400v160ZM180-400h160v-160H180v160Zm440 0h160v-160H620v160ZM180-180h160v-160H180v160Zm440 0h160v-160H620v160Z\"/>\n",
       "  </svg>\n",
       "    </button>\n",
       "\n",
       "  <style>\n",
       "    .colab-df-container {\n",
       "      display:flex;\n",
       "      gap: 12px;\n",
       "    }\n",
       "\n",
       "    .colab-df-convert {\n",
       "      background-color: #E8F0FE;\n",
       "      border: none;\n",
       "      border-radius: 50%;\n",
       "      cursor: pointer;\n",
       "      display: none;\n",
       "      fill: #1967D2;\n",
       "      height: 32px;\n",
       "      padding: 0 0 0 0;\n",
       "      width: 32px;\n",
       "    }\n",
       "\n",
       "    .colab-df-convert:hover {\n",
       "      background-color: #E2EBFA;\n",
       "      box-shadow: 0px 1px 2px rgba(60, 64, 67, 0.3), 0px 1px 3px 1px rgba(60, 64, 67, 0.15);\n",
       "      fill: #174EA6;\n",
       "    }\n",
       "\n",
       "    .colab-df-buttons div {\n",
       "      margin-bottom: 4px;\n",
       "    }\n",
       "\n",
       "    [theme=dark] .colab-df-convert {\n",
       "      background-color: #3B4455;\n",
       "      fill: #D2E3FC;\n",
       "    }\n",
       "\n",
       "    [theme=dark] .colab-df-convert:hover {\n",
       "      background-color: #434B5C;\n",
       "      box-shadow: 0px 1px 3px 1px rgba(0, 0, 0, 0.15);\n",
       "      filter: drop-shadow(0px 1px 2px rgba(0, 0, 0, 0.3));\n",
       "      fill: #FFFFFF;\n",
       "    }\n",
       "  </style>\n",
       "\n",
       "    <script>\n",
       "      const buttonEl =\n",
       "        document.querySelector('#df-a521fd56-259a-4c71-abff-b6cf27f3cfb5 button.colab-df-convert');\n",
       "      buttonEl.style.display =\n",
       "        google.colab.kernel.accessAllowed ? 'block' : 'none';\n",
       "\n",
       "      async function convertToInteractive(key) {\n",
       "        const element = document.querySelector('#df-a521fd56-259a-4c71-abff-b6cf27f3cfb5');\n",
       "        const dataTable =\n",
       "          await google.colab.kernel.invokeFunction('convertToInteractive',\n",
       "                                                    [key], {});\n",
       "        if (!dataTable) return;\n",
       "\n",
       "        const docLinkHtml = 'Like what you see? Visit the ' +\n",
       "          '<a target=\"_blank\" href=https://colab.research.google.com/notebooks/data_table.ipynb>data table notebook</a>'\n",
       "          + ' to learn more about interactive tables.';\n",
       "        element.innerHTML = '';\n",
       "        dataTable['output_type'] = 'display_data';\n",
       "        await google.colab.output.renderOutput(dataTable, element);\n",
       "        const docLink = document.createElement('div');\n",
       "        docLink.innerHTML = docLinkHtml;\n",
       "        element.appendChild(docLink);\n",
       "      }\n",
       "    </script>\n",
       "  </div>\n",
       "\n",
       "\n",
       "<div id=\"df-b73b6acf-827e-4fff-ba53-327746228d87\">\n",
       "  <button class=\"colab-df-quickchart\" onclick=\"quickchart('df-b73b6acf-827e-4fff-ba53-327746228d87')\"\n",
       "            title=\"Suggest charts\"\n",
       "            style=\"display:none;\">\n",
       "\n",
       "<svg xmlns=\"http://www.w3.org/2000/svg\" height=\"24px\"viewBox=\"0 0 24 24\"\n",
       "     width=\"24px\">\n",
       "    <g>\n",
       "        <path d=\"M19 3H5c-1.1 0-2 .9-2 2v14c0 1.1.9 2 2 2h14c1.1 0 2-.9 2-2V5c0-1.1-.9-2-2-2zM9 17H7v-7h2v7zm4 0h-2V7h2v10zm4 0h-2v-4h2v4z\"/>\n",
       "    </g>\n",
       "</svg>\n",
       "  </button>\n",
       "\n",
       "<style>\n",
       "  .colab-df-quickchart {\n",
       "      --bg-color: #E8F0FE;\n",
       "      --fill-color: #1967D2;\n",
       "      --hover-bg-color: #E2EBFA;\n",
       "      --hover-fill-color: #174EA6;\n",
       "      --disabled-fill-color: #AAA;\n",
       "      --disabled-bg-color: #DDD;\n",
       "  }\n",
       "\n",
       "  [theme=dark] .colab-df-quickchart {\n",
       "      --bg-color: #3B4455;\n",
       "      --fill-color: #D2E3FC;\n",
       "      --hover-bg-color: #434B5C;\n",
       "      --hover-fill-color: #FFFFFF;\n",
       "      --disabled-bg-color: #3B4455;\n",
       "      --disabled-fill-color: #666;\n",
       "  }\n",
       "\n",
       "  .colab-df-quickchart {\n",
       "    background-color: var(--bg-color);\n",
       "    border: none;\n",
       "    border-radius: 50%;\n",
       "    cursor: pointer;\n",
       "    display: none;\n",
       "    fill: var(--fill-color);\n",
       "    height: 32px;\n",
       "    padding: 0;\n",
       "    width: 32px;\n",
       "  }\n",
       "\n",
       "  .colab-df-quickchart:hover {\n",
       "    background-color: var(--hover-bg-color);\n",
       "    box-shadow: 0 1px 2px rgba(60, 64, 67, 0.3), 0 1px 3px 1px rgba(60, 64, 67, 0.15);\n",
       "    fill: var(--button-hover-fill-color);\n",
       "  }\n",
       "\n",
       "  .colab-df-quickchart-complete:disabled,\n",
       "  .colab-df-quickchart-complete:disabled:hover {\n",
       "    background-color: var(--disabled-bg-color);\n",
       "    fill: var(--disabled-fill-color);\n",
       "    box-shadow: none;\n",
       "  }\n",
       "\n",
       "  .colab-df-spinner {\n",
       "    border: 2px solid var(--fill-color);\n",
       "    border-color: transparent;\n",
       "    border-bottom-color: var(--fill-color);\n",
       "    animation:\n",
       "      spin 1s steps(1) infinite;\n",
       "  }\n",
       "\n",
       "  @keyframes spin {\n",
       "    0% {\n",
       "      border-color: transparent;\n",
       "      border-bottom-color: var(--fill-color);\n",
       "      border-left-color: var(--fill-color);\n",
       "    }\n",
       "    20% {\n",
       "      border-color: transparent;\n",
       "      border-left-color: var(--fill-color);\n",
       "      border-top-color: var(--fill-color);\n",
       "    }\n",
       "    30% {\n",
       "      border-color: transparent;\n",
       "      border-left-color: var(--fill-color);\n",
       "      border-top-color: var(--fill-color);\n",
       "      border-right-color: var(--fill-color);\n",
       "    }\n",
       "    40% {\n",
       "      border-color: transparent;\n",
       "      border-right-color: var(--fill-color);\n",
       "      border-top-color: var(--fill-color);\n",
       "    }\n",
       "    60% {\n",
       "      border-color: transparent;\n",
       "      border-right-color: var(--fill-color);\n",
       "    }\n",
       "    80% {\n",
       "      border-color: transparent;\n",
       "      border-right-color: var(--fill-color);\n",
       "      border-bottom-color: var(--fill-color);\n",
       "    }\n",
       "    90% {\n",
       "      border-color: transparent;\n",
       "      border-bottom-color: var(--fill-color);\n",
       "    }\n",
       "  }\n",
       "</style>\n",
       "\n",
       "  <script>\n",
       "    async function quickchart(key) {\n",
       "      const quickchartButtonEl =\n",
       "        document.querySelector('#' + key + ' button');\n",
       "      quickchartButtonEl.disabled = true;  // To prevent multiple clicks.\n",
       "      quickchartButtonEl.classList.add('colab-df-spinner');\n",
       "      try {\n",
       "        const charts = await google.colab.kernel.invokeFunction(\n",
       "            'suggestCharts', [key], {});\n",
       "      } catch (error) {\n",
       "        console.error('Error during call to suggestCharts:', error);\n",
       "      }\n",
       "      quickchartButtonEl.classList.remove('colab-df-spinner');\n",
       "      quickchartButtonEl.classList.add('colab-df-quickchart-complete');\n",
       "    }\n",
       "    (() => {\n",
       "      let quickchartButtonEl =\n",
       "        document.querySelector('#df-b73b6acf-827e-4fff-ba53-327746228d87 button');\n",
       "      quickchartButtonEl.style.display =\n",
       "        google.colab.kernel.accessAllowed ? 'block' : 'none';\n",
       "    })();\n",
       "  </script>\n",
       "</div>\n",
       "    </div>\n",
       "  </div>\n"
      ],
      "application/vnd.google.colaboratory.intrinsic+json": {
       "type": "dataframe",
       "summary": "{\n  \"name\": \"df[\\\"Price per kilogram\\\"]\",\n  \"rows\": 12,\n  \"fields\": [\n    {\n      \"column\": \"Month\",\n      \"properties\": {\n        \"dtype\": \"number\",\n        \"std\": 3,\n        \"min\": 1,\n        \"max\": 12,\n        \"num_unique_values\": 12,\n        \"samples\": [\n          11,\n          10,\n          1\n        ],\n        \"semantic_type\": \"\",\n        \"description\": \"\"\n      }\n    },\n    {\n      \"column\": \"count\",\n      \"properties\": {\n        \"dtype\": \"number\",\n        \"std\": 1220.5908001927392,\n        \"min\": 19917.0,\n        \"max\": 24784.0,\n        \"num_unique_values\": 12,\n        \"samples\": [\n          19917.0,\n          23333.0,\n          24784.0\n        ],\n        \"semantic_type\": \"\",\n        \"description\": \"\"\n      }\n    },\n    {\n      \"column\": \"mean\",\n      \"properties\": {\n        \"dtype\": \"number\",\n        \"std\": 0.32374849336401335,\n        \"min\": 11.633375394321765,\n        \"max\": 12.456603906210775,\n        \"num_unique_values\": 12,\n        \"samples\": [\n          12.456603906210775,\n          12.363685338361977,\n          12.071266946417042\n        ],\n        \"semantic_type\": \"\",\n        \"description\": \"\"\n      }\n    },\n    {\n      \"column\": \"std\",\n      \"properties\": {\n        \"dtype\": \"number\",\n        \"std\": 0.12398979515837721,\n        \"min\": 4.134731883459938,\n        \"max\": 4.538512124689683,\n        \"num_unique_values\": 12,\n        \"samples\": [\n          4.408407419865457,\n          4.349901701635695,\n          4.5063387368905135\n        ],\n        \"semantic_type\": \"\",\n        \"description\": \"\"\n      }\n    },\n    {\n      \"column\": \"min\",\n      \"properties\": {\n        \"dtype\": \"number\",\n        \"std\": 0.4458588919323595,\n        \"min\": 3.87,\n        \"max\": 5.27,\n        \"num_unique_values\": 9,\n        \"samples\": [\n          4.03,\n          4.63,\n          5.27\n        ],\n        \"semantic_type\": \"\",\n        \"description\": \"\"\n      }\n    },\n    {\n      \"column\": \"25%\",\n      \"properties\": {\n        \"dtype\": \"number\",\n        \"std\": 0.31335428685580347,\n        \"min\": 9.0,\n        \"max\": 9.83,\n        \"num_unique_values\": 9,\n        \"samples\": [\n          9.8,\n          9.17,\n          9.23\n        ],\n        \"semantic_type\": \"\",\n        \"description\": \"\"\n      }\n    },\n    {\n      \"column\": \"50%\",\n      \"properties\": {\n        \"dtype\": \"number\",\n        \"std\": 0.2247608156294692,\n        \"min\": 10.9,\n        \"max\": 11.5,\n        \"num_unique_values\": 10,\n        \"samples\": [\n          11.36,\n          11.0,\n          11.2\n        ],\n        \"semantic_type\": \"\",\n        \"description\": \"\"\n      }\n    },\n    {\n      \"column\": \"75%\",\n      \"properties\": {\n        \"dtype\": \"number\",\n        \"std\": 0.13684762594679073,\n        \"min\": 13.93,\n        \"max\": 14.33,\n        \"num_unique_values\": 8,\n        \"samples\": [\n          13.93,\n          14.23,\n          14.0\n        ],\n        \"semantic_type\": \"\",\n        \"description\": \"\"\n      }\n    },\n    {\n      \"column\": \"max\",\n      \"properties\": {\n        \"dtype\": \"number\",\n        \"std\": 0.07688539286733048,\n        \"min\": 30.83,\n        \"max\": 31.0,\n        \"num_unique_values\": 2,\n        \"samples\": [\n          30.83,\n          31.0\n        ],\n        \"semantic_type\": \"\",\n        \"description\": \"\"\n      }\n    }\n  ]\n}"
      }
     },
     "metadata": {},
     "execution_count": 112
    }
   ]
  },
  {
   "cell_type": "markdown",
   "source": [
    "## Podział danych"
   ],
   "metadata": {
    "id": "4K3kgG-EeI5k"
   }
  },
  {
   "cell_type": "markdown",
   "source": [
    "Import"
   ],
   "metadata": {
    "id": "qdWf8QnEemG-"
   }
  },
  {
   "cell_type": "code",
   "source": [
    "from sklearn.model_selection import train_test_split"
   ],
   "metadata": {
    "id": "Zpfd6m73eM1H"
   },
   "execution_count": 113,
   "outputs": []
  },
  {
   "cell_type": "markdown",
   "source": [
    "Podział danych na zestaw treningowy i testowy"
   ],
   "metadata": {
    "id": "PrV-Ef2pfA2o"
   }
  },
  {
   "cell_type": "code",
   "source": [
    "X_train, X_test, y_train, y_test = train_test_split(df.drop('Price per kilogram', axis=1), df['Price per kilogram'], test_size=0.15, random_state=42)"
   ],
   "metadata": {
    "id": "Ht__54NbfIfB"
   },
   "execution_count": 114,
   "outputs": []
  },
  {
   "cell_type": "markdown",
   "source": [
    "Podział zestawu treningowego na treningowy i walidacyjny"
   ],
   "metadata": {
    "id": "ntbHbb1-fWXp"
   }
  },
  {
   "cell_type": "code",
   "source": [
    "X_train, X_val, y_train, y_val = train_test_split(X_train, y_train, test_size=0.176, random_state=42)"
   ],
   "metadata": {
    "id": "YYwV49KXfYt1"
   },
   "execution_count": 115,
   "outputs": []
  },
  {
   "cell_type": "markdown",
   "source": [
    "Sprawdzenie rozmiarów zestawów danych"
   ],
   "metadata": {
    "id": "JvQXyxQTfnwh"
   }
  },
  {
   "cell_type": "code",
   "source": [
    "print(\"Rozmiar zestawu treningowego:\", X_train.shape)\n",
    "print(\"Rozmiar zestawu walidacyjnego:\", X_val.shape)\n",
    "print(\"Rozmiar zestawu testowego:\", X_test.shape)"
   ],
   "metadata": {
    "colab": {
     "base_uri": "https://localhost:8080/"
    },
    "id": "ksMI7pTtfeU5",
    "outputId": "5e7e9ccd-af9b-467c-ec0e-820af429b76c"
   },
   "execution_count": 116,
   "outputs": [
    {
     "output_type": "stream",
     "name": "stdout",
     "text": [
      "Rozmiar zestawu treningowego: (190854, 6)\n",
      "Rozmiar zestawu walidacyjnego: (40766, 6)\n",
      "Rozmiar zestawu testowego: (40875, 6)\n"
     ]
    }
   ]
  },
  {
   "cell_type": "markdown",
   "source": [
    "## Uczenie modelu"
   ],
   "metadata": {
    "id": "USOqW3ASgfoR"
   }
  },
  {
   "cell_type": "markdown",
   "source": [
    "Importy"
   ],
   "metadata": {
    "id": "FU5m7ew0lfPy"
   }
  },
  {
   "cell_type": "code",
   "source": [
    "from sklearn.metrics import mean_absolute_error, mean_squared_error, r2_score\n",
    "from sklearn.ensemble import RandomForestRegressor;"
   ],
   "metadata": {
    "id": "VHzRwnahlaI0"
   },
   "execution_count": 117,
   "outputs": []
  },
  {
   "cell_type": "markdown",
   "source": [
    "Inicjacja modelu"
   ],
   "metadata": {
    "id": "AyoFbA6olmBC"
   }
  },
  {
   "cell_type": "code",
   "source": [
    "model = RandomForestRegressor(n_estimators=100, max_depth=10, random_state=42);"
   ],
   "metadata": {
    "id": "F_cXODnBgR0g"
   },
   "execution_count": 118,
   "outputs": []
  },
  {
   "cell_type": "markdown",
   "source": [
    "Trenowanie modelu"
   ],
   "metadata": {
    "id": "UPmEQtxrlo6K"
   }
  },
  {
   "cell_type": "code",
   "source": [
    "model.fit(X_train, y_train);"
   ],
   "metadata": {
    "id": "LCq9qi_0gtwB"
   },
   "execution_count": 119,
   "outputs": []
  },
  {
   "cell_type": "markdown",
   "source": [
    "Ewaluacja modelu"
   ],
   "metadata": {
    "id": "zdfzVSTclr9j"
   }
  },
  {
   "cell_type": "code",
   "source": [
    "y_pred = model.predict(X_test);\n",
    "mae = mean_absolute_error(y_test, y_pred);\n",
    "mse = mean_squared_error(y_test, y_pred);\n",
    "r2 = r2_score(y_test, y_pred)\n",
    "print('Mean Absolute Error:', mae);\n",
    "print('Mean Squared Error:', mse);\n",
    "print('R2 Score:', r2)"
   ],
   "metadata": {
    "id": "dHxVd8fBg6NC",
    "colab": {
     "base_uri": "https://localhost:8080/"
    },
    "outputId": "7334265b-561a-4f77-bdcd-3124a93bb973"
   },
   "execution_count": 120,
   "outputs": [
    {
     "output_type": "stream",
     "name": "stdout",
     "text": [
      "Mean Absolute Error: 0.4021372452365648\n",
      "Mean Squared Error: 0.4136440155289987\n",
      "R2 Score: 0.978056918670725\n"
     ]
    }
   ]
  }
 ]
}
