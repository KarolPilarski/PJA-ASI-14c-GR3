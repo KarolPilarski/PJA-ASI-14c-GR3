{
  "nbformat": 4,
  "nbformat_minor": 0,
  "metadata": {
    "colab": {
      "provenance": []
    },
    "kernelspec": {
      "name": "python3",
      "display_name": "Python 3"
    },
    "language_info": {
      "name": "python"
    }
  },
  "cells": [
    {
      "cell_type": "markdown",
      "source": [
        "## Wczytywanie danych\n"
      ],
      "metadata": {
        "id": "j-jAl1OC4CsV"
      }
    },
    {
      "cell_type": "code",
      "source": [
        "from google.colab import files\n",
        "import pandas as pd\n",
        "import numpy as np\n",
        "\n",
        "\n",
        "uploaded = files.upload()\n",
        "filename = next(iter(uploaded))\n",
        "\n",
        "df = pd.read_csv(filename)\n"
      ],
      "metadata": {
        "id": "__LMmORr47E6",
        "colab": {
          "base_uri": "https://localhost:8080/",
          "height": 74
        },
        "outputId": "e8fafa78-272f-48a4-e3ff-467c057cf25a"
      },
      "execution_count": 1,
      "outputs": [
        {
          "output_type": "display_data",
          "data": {
            "text/plain": [
              "<IPython.core.display.HTML object>"
            ],
            "text/html": [
              "\n",
              "     <input type=\"file\" id=\"files-331f2042-872c-452d-af4f-91fd383eea48\" name=\"files[]\" multiple disabled\n",
              "        style=\"border:none\" />\n",
              "     <output id=\"result-331f2042-872c-452d-af4f-91fd383eea48\">\n",
              "      Upload widget is only available when the cell has been executed in the\n",
              "      current browser session. Please rerun this cell to enable.\n",
              "      </output>\n",
              "      <script>// Copyright 2017 Google LLC\n",
              "//\n",
              "// Licensed under the Apache License, Version 2.0 (the \"License\");\n",
              "// you may not use this file except in compliance with the License.\n",
              "// You may obtain a copy of the License at\n",
              "//\n",
              "//      http://www.apache.org/licenses/LICENSE-2.0\n",
              "//\n",
              "// Unless required by applicable law or agreed to in writing, software\n",
              "// distributed under the License is distributed on an \"AS IS\" BASIS,\n",
              "// WITHOUT WARRANTIES OR CONDITIONS OF ANY KIND, either express or implied.\n",
              "// See the License for the specific language governing permissions and\n",
              "// limitations under the License.\n",
              "\n",
              "/**\n",
              " * @fileoverview Helpers for google.colab Python module.\n",
              " */\n",
              "(function(scope) {\n",
              "function span(text, styleAttributes = {}) {\n",
              "  const element = document.createElement('span');\n",
              "  element.textContent = text;\n",
              "  for (const key of Object.keys(styleAttributes)) {\n",
              "    element.style[key] = styleAttributes[key];\n",
              "  }\n",
              "  return element;\n",
              "}\n",
              "\n",
              "// Max number of bytes which will be uploaded at a time.\n",
              "const MAX_PAYLOAD_SIZE = 100 * 1024;\n",
              "\n",
              "function _uploadFiles(inputId, outputId) {\n",
              "  const steps = uploadFilesStep(inputId, outputId);\n",
              "  const outputElement = document.getElementById(outputId);\n",
              "  // Cache steps on the outputElement to make it available for the next call\n",
              "  // to uploadFilesContinue from Python.\n",
              "  outputElement.steps = steps;\n",
              "\n",
              "  return _uploadFilesContinue(outputId);\n",
              "}\n",
              "\n",
              "// This is roughly an async generator (not supported in the browser yet),\n",
              "// where there are multiple asynchronous steps and the Python side is going\n",
              "// to poll for completion of each step.\n",
              "// This uses a Promise to block the python side on completion of each step,\n",
              "// then passes the result of the previous step as the input to the next step.\n",
              "function _uploadFilesContinue(outputId) {\n",
              "  const outputElement = document.getElementById(outputId);\n",
              "  const steps = outputElement.steps;\n",
              "\n",
              "  const next = steps.next(outputElement.lastPromiseValue);\n",
              "  return Promise.resolve(next.value.promise).then((value) => {\n",
              "    // Cache the last promise value to make it available to the next\n",
              "    // step of the generator.\n",
              "    outputElement.lastPromiseValue = value;\n",
              "    return next.value.response;\n",
              "  });\n",
              "}\n",
              "\n",
              "/**\n",
              " * Generator function which is called between each async step of the upload\n",
              " * process.\n",
              " * @param {string} inputId Element ID of the input file picker element.\n",
              " * @param {string} outputId Element ID of the output display.\n",
              " * @return {!Iterable<!Object>} Iterable of next steps.\n",
              " */\n",
              "function* uploadFilesStep(inputId, outputId) {\n",
              "  const inputElement = document.getElementById(inputId);\n",
              "  inputElement.disabled = false;\n",
              "\n",
              "  const outputElement = document.getElementById(outputId);\n",
              "  outputElement.innerHTML = '';\n",
              "\n",
              "  const pickedPromise = new Promise((resolve) => {\n",
              "    inputElement.addEventListener('change', (e) => {\n",
              "      resolve(e.target.files);\n",
              "    });\n",
              "  });\n",
              "\n",
              "  const cancel = document.createElement('button');\n",
              "  inputElement.parentElement.appendChild(cancel);\n",
              "  cancel.textContent = 'Cancel upload';\n",
              "  const cancelPromise = new Promise((resolve) => {\n",
              "    cancel.onclick = () => {\n",
              "      resolve(null);\n",
              "    };\n",
              "  });\n",
              "\n",
              "  // Wait for the user to pick the files.\n",
              "  const files = yield {\n",
              "    promise: Promise.race([pickedPromise, cancelPromise]),\n",
              "    response: {\n",
              "      action: 'starting',\n",
              "    }\n",
              "  };\n",
              "\n",
              "  cancel.remove();\n",
              "\n",
              "  // Disable the input element since further picks are not allowed.\n",
              "  inputElement.disabled = true;\n",
              "\n",
              "  if (!files) {\n",
              "    return {\n",
              "      response: {\n",
              "        action: 'complete',\n",
              "      }\n",
              "    };\n",
              "  }\n",
              "\n",
              "  for (const file of files) {\n",
              "    const li = document.createElement('li');\n",
              "    li.append(span(file.name, {fontWeight: 'bold'}));\n",
              "    li.append(span(\n",
              "        `(${file.type || 'n/a'}) - ${file.size} bytes, ` +\n",
              "        `last modified: ${\n",
              "            file.lastModifiedDate ? file.lastModifiedDate.toLocaleDateString() :\n",
              "                                    'n/a'} - `));\n",
              "    const percent = span('0% done');\n",
              "    li.appendChild(percent);\n",
              "\n",
              "    outputElement.appendChild(li);\n",
              "\n",
              "    const fileDataPromise = new Promise((resolve) => {\n",
              "      const reader = new FileReader();\n",
              "      reader.onload = (e) => {\n",
              "        resolve(e.target.result);\n",
              "      };\n",
              "      reader.readAsArrayBuffer(file);\n",
              "    });\n",
              "    // Wait for the data to be ready.\n",
              "    let fileData = yield {\n",
              "      promise: fileDataPromise,\n",
              "      response: {\n",
              "        action: 'continue',\n",
              "      }\n",
              "    };\n",
              "\n",
              "    // Use a chunked sending to avoid message size limits. See b/62115660.\n",
              "    let position = 0;\n",
              "    do {\n",
              "      const length = Math.min(fileData.byteLength - position, MAX_PAYLOAD_SIZE);\n",
              "      const chunk = new Uint8Array(fileData, position, length);\n",
              "      position += length;\n",
              "\n",
              "      const base64 = btoa(String.fromCharCode.apply(null, chunk));\n",
              "      yield {\n",
              "        response: {\n",
              "          action: 'append',\n",
              "          file: file.name,\n",
              "          data: base64,\n",
              "        },\n",
              "      };\n",
              "\n",
              "      let percentDone = fileData.byteLength === 0 ?\n",
              "          100 :\n",
              "          Math.round((position / fileData.byteLength) * 100);\n",
              "      percent.textContent = `${percentDone}% done`;\n",
              "\n",
              "    } while (position < fileData.byteLength);\n",
              "  }\n",
              "\n",
              "  // All done.\n",
              "  yield {\n",
              "    response: {\n",
              "      action: 'complete',\n",
              "    }\n",
              "  };\n",
              "}\n",
              "\n",
              "scope.google = scope.google || {};\n",
              "scope.google.colab = scope.google.colab || {};\n",
              "scope.google.colab._files = {\n",
              "  _uploadFiles,\n",
              "  _uploadFilesContinue,\n",
              "};\n",
              "})(self);\n",
              "</script> "
            ]
          },
          "metadata": {}
        },
        {
          "output_type": "stream",
          "name": "stdout",
          "text": [
            "Saving tortilla_prices_raw.csv to tortilla_prices_raw.csv\n"
          ]
        }
      ]
    },
    {
      "cell_type": "code",
      "source": [
        "# Wczytanie danych do zmiennej, gdy plik został już wcześniej przesłany\n",
        "df = pd.read_csv('/content/tortilla_prices_raw.csv')"
      ],
      "metadata": {
        "id": "r6wszJ1oe65M"
      },
      "execution_count": 28,
      "outputs": []
    },
    {
      "cell_type": "markdown",
      "source": [
        "## Wypisanie próbki wczytanych danych"
      ],
      "metadata": {
        "id": "GsF2JGInWQDs"
      }
    },
    {
      "cell_type": "code",
      "source": [
        "print(df.head())"
      ],
      "metadata": {
        "id": "DfMi_057-mxt",
        "colab": {
          "base_uri": "https://localhost:8080/"
        },
        "outputId": "a393c928-b272-4065-de98-5207a98474cc"
      },
      "execution_count": 29,
      "outputs": [
        {
          "output_type": "stream",
          "name": "stdout",
          "text": [
            "                 State            City  Year  Month  Day         Store type  \\\n",
            "0       Aguascalientes  Aguascalientes  2007      1   10  Mom and Pop Store   \n",
            "1      Baja California        Mexicali  2007      1   10  Mom and Pop Store   \n",
            "2      Baja California         Tijuana  2007      1   10  Mom and Pop Store   \n",
            "3  Baja California Sur          La Paz  2007      1   10  Mom and Pop Store   \n",
            "4             Campeche        Campeche  2007      1   10  Mom and Pop Store   \n",
            "\n",
            "   Price per kilogram  \n",
            "0                 9.9  \n",
            "1                 NaN  \n",
            "2                10.0  \n",
            "3                10.0  \n",
            "4                10.0  \n"
          ]
        }
      ]
    },
    {
      "cell_type": "markdown",
      "source": [
        "## Przetwarzanie wstępne danych"
      ],
      "metadata": {
        "id": "1cy0_IKOWIA1"
      }
    },
    {
      "cell_type": "code",
      "source": [
        "df.isnull().any()"
      ],
      "metadata": {
        "colab": {
          "base_uri": "https://localhost:8080/"
        },
        "id": "HhzZpeD3WYuv",
        "outputId": "3212f389-9806-471a-ce02-b9bc5b84e826"
      },
      "execution_count": 30,
      "outputs": [
        {
          "output_type": "execute_result",
          "data": {
            "text/plain": [
              "State                 False\n",
              "City                  False\n",
              "Year                  False\n",
              "Month                 False\n",
              "Day                   False\n",
              "Store type            False\n",
              "Price per kilogram     True\n",
              "dtype: bool"
            ]
          },
          "metadata": {},
          "execution_count": 30
        }
      ]
    },
    {
      "cell_type": "code",
      "source": [
        "# Display null count grouped by columns\n",
        "print(\"Rows:\", df.shape[0]);\n",
        "\n",
        "print(\"\\nColumn \\t\\tnull count\");\n",
        "print(\"--------------------------\");\n",
        "print(df.isnull().sum());"
      ],
      "metadata": {
        "colab": {
          "base_uri": "https://localhost:8080/"
        },
        "id": "-BCNgcyFilRD",
        "outputId": "1dfb1630-712a-4571-a747-ec976c90e12b"
      },
      "execution_count": 31,
      "outputs": [
        {
          "output_type": "stream",
          "name": "stdout",
          "text": [
            "Rows: 278886\n",
            "\n",
            "Column \t\tnull count\n",
            "--------------------------\n",
            "State                    0\n",
            "City                     0\n",
            "Year                     0\n",
            "Month                    0\n",
            "Day                      0\n",
            "Store type               0\n",
            "Price per kilogram    6390\n",
            "dtype: int64\n"
          ]
        }
      ]
    },
    {
      "cell_type": "markdown",
      "source": [
        "Usunięcie wierszy bez wartości w kolumnie `Price per kilogram`\n",
        "\n"
      ],
      "metadata": {
        "id": "FCkhBTIwce8Y"
      }
    },
    {
      "cell_type": "code",
      "source": [
        "df = df.dropna(subset=['Price per kilogram'])"
      ],
      "metadata": {
        "id": "Dx1OXWU5XAHK"
      },
      "execution_count": 33,
      "outputs": []
    },
    {
      "cell_type": "code",
      "source": [
        "df.isnull().any()"
      ],
      "metadata": {
        "colab": {
          "base_uri": "https://localhost:8080/"
        },
        "id": "njFBm_r5Yszg",
        "outputId": "b994509d-67e6-44f7-8779-7e078aa5bd44"
      },
      "execution_count": 34,
      "outputs": [
        {
          "output_type": "execute_result",
          "data": {
            "text/plain": [
              "State                 False\n",
              "City                  False\n",
              "Year                  False\n",
              "Month                 False\n",
              "Day                   False\n",
              "Store type            False\n",
              "Price per kilogram    False\n",
              "dtype: bool"
            ]
          },
          "metadata": {},
          "execution_count": 34
        }
      ]
    },
    {
      "cell_type": "markdown",
      "source": [
        "Wyświetlenie wierszy z wartością `Price per kilogram` mniejszą lub równą 0"
      ],
      "metadata": {
        "id": "2nNKWsdCgXHW"
      }
    },
    {
      "cell_type": "code",
      "source": [
        "print(df[df['Price per kilogram'] <= 0])"
      ],
      "metadata": {
        "colab": {
          "base_uri": "https://localhost:8080/"
        },
        "id": "EM5vo-DHgRRc",
        "outputId": "69e0e2e5-0f11-4882-8a6d-36215918cb83"
      },
      "execution_count": 35,
      "outputs": [
        {
          "output_type": "stream",
          "name": "stdout",
          "text": [
            "            State      City  Year  Month  Day        Store type  \\\n",
            "45191  Guanajuato  Irapuato  2009      9    9  Big Retail Store   \n",
            "\n",
            "       Price per kilogram  \n",
            "45191                 0.0  \n"
          ]
        }
      ]
    },
    {
      "cell_type": "code",
      "source": [
        "df.drop(df.index[df['Price per kilogram'] == 0], inplace = True)"
      ],
      "metadata": {
        "id": "qHECroQig6ON"
      },
      "execution_count": 36,
      "outputs": []
    },
    {
      "cell_type": "code",
      "source": [
        "print(df.head())"
      ],
      "metadata": {
        "colab": {
          "base_uri": "https://localhost:8080/"
        },
        "id": "5IhjYqwPXIzp",
        "outputId": "dcc4da70-52be-4192-f727-fd18c263956b"
      },
      "execution_count": 37,
      "outputs": [
        {
          "output_type": "stream",
          "name": "stdout",
          "text": [
            "                 State            City  Year  Month  Day         Store type  \\\n",
            "0       Aguascalientes  Aguascalientes  2007      1   10  Mom and Pop Store   \n",
            "1      Baja California        Mexicali  2007      1   10  Mom and Pop Store   \n",
            "2      Baja California         Tijuana  2007      1   10  Mom and Pop Store   \n",
            "3  Baja California Sur          La Paz  2007      1   10  Mom and Pop Store   \n",
            "4             Campeche        Campeche  2007      1   10  Mom and Pop Store   \n",
            "\n",
            "   Price per kilogram  \n",
            "0            9.900000  \n",
            "1           12.054586  \n",
            "2           10.000000  \n",
            "3           10.000000  \n",
            "4           10.000000  \n"
          ]
        }
      ]
    },
    {
      "cell_type": "markdown",
      "source": [
        "Kodowanie etykiet"
      ],
      "metadata": {
        "id": "9Ha7nFDDcaxy"
      }
    },
    {
      "cell_type": "code",
      "source": [
        "from sklearn.preprocessing import LabelEncoder\n",
        "\n",
        "encoder = LabelEncoder()\n",
        "df['State'] = encoder.fit_transform(df['State'])\n",
        "df['City'] = encoder.fit_transform(df['City'])\n",
        "df['Store type'] = encoder.fit_transform(df['Store type'])"
      ],
      "metadata": {
        "id": "9mScFgSrbS1Y"
      },
      "execution_count": 38,
      "outputs": []
    },
    {
      "cell_type": "code",
      "source": [
        "print(df.head())"
      ],
      "metadata": {
        "colab": {
          "base_uri": "https://localhost:8080/"
        },
        "id": "NCIfnfFAjWuF",
        "outputId": "a522d70a-20cf-49ef-8357-5e54ef3cbf03"
      },
      "execution_count": 39,
      "outputs": [
        {
          "output_type": "stream",
          "name": "stdout",
          "text": [
            "   State  City  Year  Month  Day  Store type  Price per kilogram\n",
            "0      0     1  2007      1   10           1            9.900000\n",
            "1      1    24  2007      1   10           1           12.054586\n",
            "2      1    43  2007      1   10           1           10.000000\n",
            "3      2    21  2007      1   10           1           10.000000\n",
            "4      3     2  2007      1   10           1           10.000000\n"
          ]
        }
      ]
    },
    {
      "cell_type": "markdown",
      "source": [
        "## Ewaluacja danych\n",
        "\n"
      ],
      "metadata": {
        "id": "fjDXnKxLXIFx"
      }
    },
    {
      "cell_type": "code",
      "source": [
        "print(round(df['Price per kilogram'].describe(), 2))"
      ],
      "metadata": {
        "id": "VW2kGSvDZaVm",
        "colab": {
          "base_uri": "https://localhost:8080/"
        },
        "outputId": "0b115d3b-eea6-4735-8ec3-e80e35a14456"
      },
      "execution_count": 40,
      "outputs": [
        {
          "output_type": "stream",
          "name": "stdout",
          "text": [
            "count    278885.00\n",
            "mean         12.05\n",
            "std           4.29\n",
            "min           3.87\n",
            "25%           9.62\n",
            "50%          11.25\n",
            "75%          14.00\n",
            "max          31.00\n",
            "Name: Price per kilogram, dtype: float64\n"
          ]
        }
      ]
    },
    {
      "cell_type": "code",
      "source": [
        "import seaborn as sns\n",
        "import matplotlib.pyplot as plt\n",
        "\n",
        "numeric_df = df.select_dtypes(include=[np.number])\n",
        "\n",
        "corr_matrix = numeric_df.corr()\n",
        "\n",
        "sns.heatmap(corr_matrix, annot=True, fmt=\".2f\", cmap='coolwarm')\n",
        "plt.title('Macierz korelacji')\n",
        "plt.show()"
      ],
      "metadata": {
        "colab": {
          "base_uri": "https://localhost:8080/",
          "height": 565
        },
        "id": "gbwXS22_aePS",
        "outputId": "bfe1d2f5-4f68-4995-8b38-9aa79eb2bee4"
      },
      "execution_count": 41,
      "outputs": [
        {
          "output_type": "display_data",
          "data": {
            "text/plain": [
              "<Figure size 640x480 with 2 Axes>"
            ],
            "image/png": "[encoded data removed]"
          },
          "metadata": {}
        }
      ]
    },
    {
      "cell_type": "code",
      "source": [
        "y_describe = df[\"Price per kilogram\"].groupby([df[\"Year\"]]).describe()\n",
        "y_describe"
      ],
      "metadata": {
        "colab": {
          "base_uri": "https://localhost:8080/",
          "height": 645
        },
        "id": "T_SAMxYUdBvM",
        "outputId": "87f81bf4-7924-4964-b646-99938c3cb13e"
      },
      "execution_count": 49,
      "outputs": [
        {
          "output_type": "execute_result",
          "data": {
            "text/plain": [
              "        count       mean       std    min    25%        50%    75%        max\n",
              "Year                                                                         \n",
              "2007  16377.0   7.471039  1.836033   3.87   5.80   8.000000   8.83  12.054586\n",
              "2008  15808.0   7.622002  1.957513   4.03   5.80   7.800000   9.50  13.000000\n",
              "2009  15183.0   8.095482  2.073047   4.47   6.27   7.770000  10.00  13.000000\n",
              "2010  15645.0   8.670437  2.170485   5.07   6.87   8.000000  11.00  13.800000\n",
              "2011  15750.0   9.737406  2.345454   5.80   7.67   8.970000  12.00  15.500000\n",
              "2012  17360.0  11.280149  2.057119   7.33   9.63  10.900000  13.22  16.500000\n",
              "2013  17360.0  11.723217  1.934786   7.33  10.23  11.200000  13.50  17.330000\n",
              "2014  17136.0  11.624461  2.097390   7.50   9.93  11.070000  13.55  17.400000\n",
              "2015  16576.0  11.632321  2.179127   7.50   9.97  10.630000  14.00  18.000000\n",
              "2016  17024.0  11.861317  2.319837   7.50  10.00  11.030000  14.00  19.000000\n",
              "2017  16092.0  12.520789  2.603210   7.50  10.23  11.700000  14.88  19.830000\n",
              "2018  16308.0  12.892340  2.743118   9.20  10.50  12.000000  15.50  20.170000\n",
              "2019  16092.0  13.352562  2.836169   9.33  10.91  12.170000  15.67  21.170000\n",
              "2020  15476.0  13.649693  2.814622   9.50  11.70  12.054586  16.00  22.670000\n",
              "2021  16006.0  15.185382  3.622276   9.63  12.13  13.500000  18.20  25.330000\n",
              "2022  15900.0  17.332094  4.597980  10.10  13.37  15.295000  21.33  30.000000\n",
              "2023  16092.0  18.946541  5.650001  10.50  13.77  17.000000  24.00  30.830000\n",
              "2024   2700.0  19.421022  5.696901  11.60  13.97  17.460000  24.65  31.000000"
            ],
            "text/html": [
              "\n",
              "  <div id=\"df-bb70c20a-7869-494a-8457-2d91f7dd73da\" class=\"colab-df-container\">\n",
              "    <div>\n",
              "<style scoped>\n",
              "    .dataframe tbody tr th:only-of-type {\n",
              "        vertical-align: middle;\n",
              "    }\n",
              "\n",
              "    .dataframe tbody tr th {\n",
              "        vertical-align: top;\n",
              "    }\n",
              "\n",
              "    .dataframe thead th {\n",
              "        text-align: right;\n",
              "    }\n",
              "</style>\n",
              "<table border=\"1\" class=\"dataframe\">\n",
              "  <thead>\n",
              "    <tr style=\"text-align: right;\">\n",
              "      <th></th>\n",
              "      <th>count</th>\n",
              "      <th>mean</th>\n",
              "      <th>std</th>\n",
              "      <th>min</th>\n",
              "      <th>25%</th>\n",
              "      <th>50%</th>\n",
              "      <th>75%</th>\n",
              "      <th>max</th>\n",
              "    </tr>\n",
              "    <tr>\n",
              "      <th>Year</th>\n",
              "      <th></th>\n",
              "      <th></th>\n",
              "      <th></th>\n",
              "      <th></th>\n",
              "      <th></th>\n",
              "      <th></th>\n",
              "      <th></th>\n",
              "      <th></th>\n",
              "    </tr>\n",
              "  </thead>\n",
              "  <tbody>\n",
              "    <tr>\n",
              "      <th>2007</th>\n",
              "      <td>16377.0</td>\n",
              "      <td>7.471039</td>\n",
              "      <td>1.836033</td>\n",
              "      <td>3.87</td>\n",
              "      <td>5.80</td>\n",
              "      <td>8.000000</td>\n",
              "      <td>8.83</td>\n",
              "      <td>12.054586</td>\n",
              "    </tr>\n",
              "    <tr>\n",
              "      <th>2008</th>\n",
              "      <td>15808.0</td>\n",
              "      <td>7.622002</td>\n",
              "      <td>1.957513</td>\n",
              "      <td>4.03</td>\n",
              "      <td>5.80</td>\n",
              "      <td>7.800000</td>\n",
              "      <td>9.50</td>\n",
              "      <td>13.000000</td>\n",
              "    </tr>\n",
              "    <tr>\n",
              "      <th>2009</th>\n",
              "      <td>15183.0</td>\n",
              "      <td>8.095482</td>\n",
              "      <td>2.073047</td>\n",
              "      <td>4.47</td>\n",
              "      <td>6.27</td>\n",
              "      <td>7.770000</td>\n",
              "      <td>10.00</td>\n",
              "      <td>13.000000</td>\n",
              "    </tr>\n",
              "    <tr>\n",
              "      <th>2010</th>\n",
              "      <td>15645.0</td>\n",
              "      <td>8.670437</td>\n",
              "      <td>2.170485</td>\n",
              "      <td>5.07</td>\n",
              "      <td>6.87</td>\n",
              "      <td>8.000000</td>\n",
              "      <td>11.00</td>\n",
              "      <td>13.800000</td>\n",
              "    </tr>\n",
              "    <tr>\n",
              "      <th>2011</th>\n",
              "      <td>15750.0</td>\n",
              "      <td>9.737406</td>\n",
              "      <td>2.345454</td>\n",
              "      <td>5.80</td>\n",
              "      <td>7.67</td>\n",
              "      <td>8.970000</td>\n",
              "      <td>12.00</td>\n",
              "      <td>15.500000</td>\n",
              "    </tr>\n",
              "    <tr>\n",
              "      <th>2012</th>\n",
              "      <td>17360.0</td>\n",
              "      <td>11.280149</td>\n",
              "      <td>2.057119</td>\n",
              "      <td>7.33</td>\n",
              "      <td>9.63</td>\n",
              "      <td>10.900000</td>\n",
              "      <td>13.22</td>\n",
              "      <td>16.500000</td>\n",
              "    </tr>\n",
              "    <tr>\n",
              "      <th>2013</th>\n",
              "      <td>17360.0</td>\n",
              "      <td>11.723217</td>\n",
              "      <td>1.934786</td>\n",
              "      <td>7.33</td>\n",
              "      <td>10.23</td>\n",
              "      <td>11.200000</td>\n",
              "      <td>13.50</td>\n",
              "      <td>17.330000</td>\n",
              "    </tr>\n",
              "    <tr>\n",
              "      <th>2014</th>\n",
              "      <td>17136.0</td>\n",
              "      <td>11.624461</td>\n",
              "      <td>2.097390</td>\n",
              "      <td>7.50</td>\n",
              "      <td>9.93</td>\n",
              "      <td>11.070000</td>\n",
              "      <td>13.55</td>\n",
              "      <td>17.400000</td>\n",
              "    </tr>\n",
              "    <tr>\n",
              "      <th>2015</th>\n",
              "      <td>16576.0</td>\n",
              "      <td>11.632321</td>\n",
              "      <td>2.179127</td>\n",
              "      <td>7.50</td>\n",
              "      <td>9.97</td>\n",
              "      <td>10.630000</td>\n",
              "      <td>14.00</td>\n",
              "      <td>18.000000</td>\n",
              "    </tr>\n",
              "    <tr>\n",
              "      <th>2016</th>\n",
              "      <td>17024.0</td>\n",
              "      <td>11.861317</td>\n",
              "      <td>2.319837</td>\n",
              "      <td>7.50</td>\n",
              "      <td>10.00</td>\n",
              "      <td>11.030000</td>\n",
              "      <td>14.00</td>\n",
              "      <td>19.000000</td>\n",
              "    </tr>\n",
              "    <tr>\n",
              "      <th>2017</th>\n",
              "      <td>16092.0</td>\n",
              "      <td>12.520789</td>\n",
              "      <td>2.603210</td>\n",
              "      <td>7.50</td>\n",
              "      <td>10.23</td>\n",
              "      <td>11.700000</td>\n",
              "      <td>14.88</td>\n",
              "      <td>19.830000</td>\n",
              "    </tr>\n",
              "    <tr>\n",
              "      <th>2018</th>\n",
              "      <td>16308.0</td>\n",
              "      <td>12.892340</td>\n",
              "      <td>2.743118</td>\n",
              "      <td>9.20</td>\n",
              "      <td>10.50</td>\n",
              "      <td>12.000000</td>\n",
              "      <td>15.50</td>\n",
              "      <td>20.170000</td>\n",
              "    </tr>\n",
              "    <tr>\n",
              "      <th>2019</th>\n",
              "      <td>16092.0</td>\n",
              "      <td>13.352562</td>\n",
              "      <td>2.836169</td>\n",
              "      <td>9.33</td>\n",
              "      <td>10.91</td>\n",
              "      <td>12.170000</td>\n",
              "      <td>15.67</td>\n",
              "      <td>21.170000</td>\n",
              "    </tr>\n",
              "    <tr>\n",
              "      <th>2020</th>\n",
              "      <td>15476.0</td>\n",
              "      <td>13.649693</td>\n",
              "      <td>2.814622</td>\n",
              "      <td>9.50</td>\n",
              "      <td>11.70</td>\n",
              "      <td>12.054586</td>\n",
              "      <td>16.00</td>\n",
              "      <td>22.670000</td>\n",
              "    </tr>\n",
              "    <tr>\n",
              "      <th>2021</th>\n",
              "      <td>16006.0</td>\n",
              "      <td>15.185382</td>\n",
              "      <td>3.622276</td>\n",
              "      <td>9.63</td>\n",
              "      <td>12.13</td>\n",
              "      <td>13.500000</td>\n",
              "      <td>18.20</td>\n",
              "      <td>25.330000</td>\n",
              "    </tr>\n",
              "    <tr>\n",
              "      <th>2022</th>\n",
              "      <td>15900.0</td>\n",
              "      <td>17.332094</td>\n",
              "      <td>4.597980</td>\n",
              "      <td>10.10</td>\n",
              "      <td>13.37</td>\n",
              "      <td>15.295000</td>\n",
              "      <td>21.33</td>\n",
              "      <td>30.000000</td>\n",
              "    </tr>\n",
              "    <tr>\n",
              "      <th>2023</th>\n",
              "      <td>16092.0</td>\n",
              "      <td>18.946541</td>\n",
              "      <td>5.650001</td>\n",
              "      <td>10.50</td>\n",
              "      <td>13.77</td>\n",
              "      <td>17.000000</td>\n",
              "      <td>24.00</td>\n",
              "      <td>30.830000</td>\n",
              "    </tr>\n",
              "    <tr>\n",
              "      <th>2024</th>\n",
              "      <td>2700.0</td>\n",
              "      <td>19.421022</td>\n",
              "      <td>5.696901</td>\n",
              "      <td>11.60</td>\n",
              "      <td>13.97</td>\n",
              "      <td>17.460000</td>\n",
              "      <td>24.65</td>\n",
              "      <td>31.000000</td>\n",
              "    </tr>\n",
              "  </tbody>\n",
              "</table>\n",
              "</div>\n",
              "    <div class=\"colab-df-buttons\">\n",
              "\n",
              "  <div class=\"colab-df-container\">\n",
              "    <button class=\"colab-df-convert\" onclick=\"convertToInteractive('df-bb70c20a-7869-494a-8457-2d91f7dd73da')\"\n",
              "            title=\"Convert this dataframe to an interactive table.\"\n",
              "            style=\"display:none;\">\n",
              "\n",
              "  <svg xmlns=\"http://www.w3.org/2000/svg\" height=\"24px\" viewBox=\"0 -960 960 960\">\n",
              "    <path d=\"M120-120v-720h720v720H120Zm60-500h600v-160H180v160Zm220 220h160v-160H400v160Zm0 220h160v-160H400v160ZM180-400h160v-160H180v160Zm440 0h160v-160H620v160ZM180-180h160v-160H180v160Zm440 0h160v-160H620v160Z\"/>\n",
              "  </svg>\n",
              "    </button>\n",
              "\n",
              "  <style>\n",
              "    .colab-df-container {\n",
              "      display:flex;\n",
              "      gap: 12px;\n",
              "    }\n",
              "\n",
              "    .colab-df-convert {\n",
              "      background-color: #E8F0FE;\n",
              "      border: none;\n",
              "      border-radius: 50%;\n",
              "      cursor: pointer;\n",
              "      display: none;\n",
              "      fill: #1967D2;\n",
              "      height: 32px;\n",
              "      padding: 0 0 0 0;\n",
              "      width: 32px;\n",
              "    }\n",
              "\n",
              "    .colab-df-convert:hover {\n",
              "      background-color: #E2EBFA;\n",
              "      box-shadow: 0px 1px 2px rgba(60, 64, 67, 0.3), 0px 1px 3px 1px rgba(60, 64, 67, 0.15);\n",
              "      fill: #174EA6;\n",
              "    }\n",
              "\n",
              "    .colab-df-buttons div {\n",
              "      margin-bottom: 4px;\n",
              "    }\n",
              "\n",
              "    [theme=dark] .colab-df-convert {\n",
              "      background-color: #3B4455;\n",
              "      fill: #D2E3FC;\n",
              "    }\n",
              "\n",
              "    [theme=dark] .colab-df-convert:hover {\n",
              "      background-color: #434B5C;\n",
              "      box-shadow: 0px 1px 3px 1px rgba(0, 0, 0, 0.15);\n",
              "      filter: drop-shadow(0px 1px 2px rgba(0, 0, 0, 0.3));\n",
              "      fill: #FFFFFF;\n",
              "    }\n",
              "  </style>\n",
              "\n",
              "    <script>\n",
              "      const buttonEl =\n",
              "        document.querySelector('#df-bb70c20a-7869-494a-8457-2d91f7dd73da button.colab-df-convert');\n",
              "      buttonEl.style.display =\n",
              "        google.colab.kernel.accessAllowed ? 'block' : 'none';\n",
              "\n",
              "      async function convertToInteractive(key) {\n",
              "        const element = document.querySelector('#df-bb70c20a-7869-494a-8457-2d91f7dd73da');\n",
              "        const dataTable =\n",
              "          await google.colab.kernel.invokeFunction('convertToInteractive',\n",
              "                                                    [key], {});\n",
              "        if (!dataTable) return;\n",
              "\n",
              "        const docLinkHtml = 'Like what you see? Visit the ' +\n",
              "          '<a target=\"_blank\" href=https://colab.research.google.com/notebooks/data_table.ipynb>data table notebook</a>'\n",
              "          + ' to learn more about interactive tables.';\n",
              "        element.innerHTML = '';\n",
              "        dataTable['output_type'] = 'display_data';\n",
              "        await google.colab.output.renderOutput(dataTable, element);\n",
              "        const docLink = document.createElement('div');\n",
              "        docLink.innerHTML = docLinkHtml;\n",
              "        element.appendChild(docLink);\n",
              "      }\n",
              "    </script>\n",
              "  </div>\n",
              "\n",
              "\n",
              "<div id=\"df-8f494903-74b5-402c-8662-89b2047ee075\">\n",
              "  <button class=\"colab-df-quickchart\" onclick=\"quickchart('df-8f494903-74b5-402c-8662-89b2047ee075')\"\n",
              "            title=\"Suggest charts\"\n",
              "            style=\"display:none;\">\n",
              "\n",
              "<svg xmlns=\"http://www.w3.org/2000/svg\" height=\"24px\"viewBox=\"0 0 24 24\"\n",
              "     width=\"24px\">\n",
              "    <g>\n",
              "        <path d=\"M19 3H5c-1.1 0-2 .9-2 2v14c0 1.1.9 2 2 2h14c1.1 0 2-.9 2-2V5c0-1.1-.9-2-2-2zM9 17H7v-7h2v7zm4 0h-2V7h2v10zm4 0h-2v-4h2v4z\"/>\n",
              "    </g>\n",
              "</svg>\n",
              "  </button>\n",
              "\n",
              "<style>\n",
              "  .colab-df-quickchart {\n",
              "      --bg-color: #E8F0FE;\n",
              "      --fill-color: #1967D2;\n",
              "      --hover-bg-color: #E2EBFA;\n",
              "      --hover-fill-color: #174EA6;\n",
              "      --disabled-fill-color: #AAA;\n",
              "      --disabled-bg-color: #DDD;\n",
              "  }\n",
              "\n",
              "  [theme=dark] .colab-df-quickchart {\n",
              "      --bg-color: #3B4455;\n",
              "      --fill-color: #D2E3FC;\n",
              "      --hover-bg-color: #434B5C;\n",
              "      --hover-fill-color: #FFFFFF;\n",
              "      --disabled-bg-color: #3B4455;\n",
              "      --disabled-fill-color: #666;\n",
              "  }\n",
              "\n",
              "  .colab-df-quickchart {\n",
              "    background-color: var(--bg-color);\n",
              "    border: none;\n",
              "    border-radius: 50%;\n",
              "    cursor: pointer;\n",
              "    display: none;\n",
              "    fill: var(--fill-color);\n",
              "    height: 32px;\n",
              "    padding: 0;\n",
              "    width: 32px;\n",
              "  }\n",
              "\n",
              "  .colab-df-quickchart:hover {\n",
              "    background-color: var(--hover-bg-color);\n",
              "    box-shadow: 0 1px 2px rgba(60, 64, 67, 0.3), 0 1px 3px 1px rgba(60, 64, 67, 0.15);\n",
              "    fill: var(--button-hover-fill-color);\n",
              "  }\n",
              "\n",
              "  .colab-df-quickchart-complete:disabled,\n",
              "  .colab-df-quickchart-complete:disabled:hover {\n",
              "    background-color: var(--disabled-bg-color);\n",
              "    fill: var(--disabled-fill-color);\n",
              "    box-shadow: none;\n",
              "  }\n",
              "\n",
              "  .colab-df-spinner {\n",
              "    border: 2px solid var(--fill-color);\n",
              "    border-color: transparent;\n",
              "    border-bottom-color: var(--fill-color);\n",
              "    animation:\n",
              "      spin 1s steps(1) infinite;\n",
              "  }\n",
              "\n",
              "  @keyframes spin {\n",
              "    0% {\n",
              "      border-color: transparent;\n",
              "      border-bottom-color: var(--fill-color);\n",
              "      border-left-color: var(--fill-color);\n",
              "    }\n",
              "    20% {\n",
              "      border-color: transparent;\n",
              "      border-left-color: var(--fill-color);\n",
              "      border-top-color: var(--fill-color);\n",
              "    }\n",
              "    30% {\n",
              "      border-color: transparent;\n",
              "      border-left-color: var(--fill-color);\n",
              "      border-top-color: var(--fill-color);\n",
              "      border-right-color: var(--fill-color);\n",
              "    }\n",
              "    40% {\n",
              "      border-color: transparent;\n",
              "      border-right-color: var(--fill-color);\n",
              "      border-top-color: var(--fill-color);\n",
              "    }\n",
              "    60% {\n",
              "      border-color: transparent;\n",
              "      border-right-color: var(--fill-color);\n",
              "    }\n",
              "    80% {\n",
              "      border-color: transparent;\n",
              "      border-right-color: var(--fill-color);\n",
              "      border-bottom-color: var(--fill-color);\n",
              "    }\n",
              "    90% {\n",
              "      border-color: transparent;\n",
              "      border-bottom-color: var(--fill-color);\n",
              "    }\n",
              "  }\n",
              "</style>\n",
              "\n",
              "  <script>\n",
              "    async function quickchart(key) {\n",
              "      const quickchartButtonEl =\n",
              "        document.querySelector('#' + key + ' button');\n",
              "      quickchartButtonEl.disabled = true;  // To prevent multiple clicks.\n",
              "      quickchartButtonEl.classList.add('colab-df-spinner');\n",
              "      try {\n",
              "        const charts = await google.colab.kernel.invokeFunction(\n",
              "            'suggestCharts', [key], {});\n",
              "      } catch (error) {\n",
              "        console.error('Error during call to suggestCharts:', error);\n",
              "      }\n",
              "      quickchartButtonEl.classList.remove('colab-df-spinner');\n",
              "      quickchartButtonEl.classList.add('colab-df-quickchart-complete');\n",
              "    }\n",
              "    (() => {\n",
              "      let quickchartButtonEl =\n",
              "        document.querySelector('#df-8f494903-74b5-402c-8662-89b2047ee075 button');\n",
              "      quickchartButtonEl.style.display =\n",
              "        google.colab.kernel.accessAllowed ? 'block' : 'none';\n",
              "    })();\n",
              "  </script>\n",
              "</div>\n",
              "    </div>\n",
              "  </div>\n"
            ],
            "application/vnd.google.colaboratory.intrinsic+json": {
              "type": "dataframe",
              "variable_name": "y_describe",
              "summary": "{\n  \"name\": \"y_describe\",\n  \"rows\": 18,\n  \"fields\": [\n    {\n      \"column\": \"Year\",\n      \"properties\": {\n        \"dtype\": \"number\",\n        \"std\": 5,\n        \"min\": 2007,\n        \"max\": 2024,\n        \"num_unique_values\": 18,\n        \"samples\": [\n          2007,\n          2008,\n          2015\n        ],\n        \"semantic_type\": \"\",\n        \"description\": \"\"\n      }\n    },\n    {\n      \"column\": \"count\",\n      \"properties\": {\n        \"dtype\": \"number\",\n        \"std\": 3254.7177367248964,\n        \"min\": 2700.0,\n        \"max\": 17360.0,\n        \"num_unique_values\": 15,\n        \"samples\": [\n          16092.0,\n          15476.0,\n          16377.0\n        ],\n        \"semantic_type\": \"\",\n        \"description\": \"\"\n      }\n    },\n    {\n      \"column\": \"mean\",\n      \"properties\": {\n        \"dtype\": \"number\",\n        \"std\": 3.5711674278693186,\n        \"min\": 7.471039272654292,\n        \"max\": 19.421021915292812,\n        \"num_unique_values\": 18,\n        \"samples\": [\n          7.471039272654292,\n          7.622001899222804,\n          11.632320825289574\n        ],\n        \"semantic_type\": \"\",\n        \"description\": \"\"\n      }\n    },\n    {\n      \"column\": \"std\",\n      \"properties\": {\n        \"dtype\": \"number\",\n        \"std\": 1.2265653678022752,\n        \"min\": 1.8360325989069257,\n        \"max\": 5.69690106205589,\n        \"num_unique_values\": 18,\n        \"samples\": [\n          1.8360325989069257,\n          1.957513205890422,\n          2.179126798950336\n        ],\n        \"semantic_type\": \"\",\n        \"description\": \"\"\n      }\n    },\n    {\n      \"column\": \"min\",\n      \"properties\": {\n        \"dtype\": \"number\",\n        \"std\": 2.30311809101845,\n        \"min\": 3.87,\n        \"max\": 11.6,\n        \"num_unique_values\": 14,\n        \"samples\": [\n          9.5,\n          10.1,\n          3.87\n        ],\n        \"semantic_type\": \"\",\n        \"description\": \"\"\n      }\n    },\n    {\n      \"column\": \"25%\",\n      \"properties\": {\n        \"dtype\": \"number\",\n        \"std\": 2.59429344846184,\n        \"min\": 5.8,\n        \"max\": 13.97,\n        \"num_unique_values\": 16,\n        \"samples\": [\n          5.8,\n          6.27,\n          10.23\n        ],\n        \"semantic_type\": \"\",\n        \"description\": \"\"\n      }\n    },\n    {\n      \"column\": \"50%\",\n      \"properties\": {\n        \"dtype\": \"number\",\n        \"std\": 2.9237900414549807,\n        \"min\": 7.77,\n        \"max\": 17.46,\n        \"num_unique_values\": 17,\n        \"samples\": [\n          8.0,\n          7.8,\n          11.2\n        ],\n        \"semantic_type\": \"\",\n        \"description\": \"\"\n      }\n    },\n    {\n      \"column\": \"75%\",\n      \"properties\": {\n        \"dtype\": \"number\",\n        \"std\": 4.563170301732598,\n        \"min\": 8.83,\n        \"max\": 24.65,\n        \"num_unique_values\": 17,\n        \"samples\": [\n          8.83,\n          9.5,\n          13.22\n        ],\n        \"semantic_type\": \"\",\n        \"description\": \"\"\n      }\n    },\n    {\n      \"column\": \"max\",\n      \"properties\": {\n        \"dtype\": \"number\",\n        \"std\": 6.066125086688379,\n        \"min\": 12.054585645293875,\n        \"max\": 31.0,\n        \"num_unique_values\": 17,\n        \"samples\": [\n          12.054585645293875,\n          13.0,\n          17.33\n        ],\n        \"semantic_type\": \"\",\n        \"description\": \"\"\n      }\n    }\n  ]\n}"
            }
          },
          "metadata": {},
          "execution_count": 49
        }
      ]
    },
    {
      "source": [
        "from matplotlib import pyplot as plt\n",
        "ax = plt.subplot(title='Price per kilogram', xlim=(2007, 2024), ylabel='Mexican peso ($MXN)')\n",
        "y_describe['mean'].plot(kind='line')\n",
        "y_describe['min'].plot(kind='line')\n",
        "y_describe['std'].plot(kind='line')\n",
        "plt.legend(['mean', 'min', 'std'])\n",
        "plt.ylabel = 'Price per kilogram'\n",
        "plt.gca().spines[['top', 'right']].set_visible(False)"
      ],
      "cell_type": "code",
      "metadata": {
        "colab": {
          "base_uri": "https://localhost:8080/",
          "height": 472
        },
        "id": "_0K1qTaQSv4a",
        "outputId": "ff14a8f1-2fa0-445a-b83c-c63196dc11d4"
      },
      "execution_count": 78,
      "outputs": [
        {
          "output_type": "display_data",
          "data": {
            "text/plain": [
              "<Figure size 640x480 with 1 Axes>"
            ],
            "image/png": "[encoded data removed]"
          },
          "metadata": {}
        }
      ]
    },
    {
      "cell_type": "code",
      "source": [
        "df[\"Price per kilogram\"].groupby([df[\"Month\"]]).describe()"
      ],
      "metadata": {
        "colab": {
          "base_uri": "https://localhost:8080/",
          "height": 457
        },
        "id": "f6IlHr5jdrtS",
        "outputId": "cc8210e4-7f63-4cd9-c302-60154c55a63a"
      },
      "execution_count": 79,
      "outputs": [
        {
          "output_type": "execute_result",
          "data": {
            "text/plain": [
              "         count       mean       std   min   25%    50%    75%    max\n",
              "Month                                                               \n",
              "1      25296.0  12.070929  4.460499  3.87  9.53  11.23  14.00  31.00\n",
              "2      22893.0  11.878158  4.511112  3.87  9.23  11.00  14.00  31.00\n",
              "3      23737.0  11.638326  4.205861  4.63  9.00  11.00  13.83  31.00\n",
              "4      23222.0  11.658676  4.129347  4.72  9.25  10.93  13.97  30.83\n",
              "5      23980.0  11.757688  4.172308  4.70  9.34  11.00  14.00  30.83\n",
              "6      24743.0  11.734431  4.099848  4.70  9.50  11.20  13.56  30.83\n",
              "7      23309.0  12.118705  4.120257  4.75  9.80  11.38  14.00  30.83\n",
              "8      23643.0  12.273533  4.200591  5.27  9.83  11.50  14.00  30.83\n",
              "9      21580.0  12.393201  4.346063  5.13  9.83  11.43  14.14  30.83\n",
              "10     23415.0  12.362603  4.342316  4.70  9.80  11.38  14.20  30.83\n",
              "11     20403.0  12.447028  4.356016  4.03  9.87  11.56  14.23  30.83\n",
              "12     22664.0  12.432086  4.363057  4.52  9.83  11.50  14.23  30.83"
            ],
            "text/html": [
              "\n",
              "  <div id=\"df-9e748d08-0062-4a68-9578-27ac638e5c20\" class=\"colab-df-container\">\n",
              "    <div>\n",
              "<style scoped>\n",
              "    .dataframe tbody tr th:only-of-type {\n",
              "        vertical-align: middle;\n",
              "    }\n",
              "\n",
              "    .dataframe tbody tr th {\n",
              "        vertical-align: top;\n",
              "    }\n",
              "\n",
              "    .dataframe thead th {\n",
              "        text-align: right;\n",
              "    }\n",
              "</style>\n",
              "<table border=\"1\" class=\"dataframe\">\n",
              "  <thead>\n",
              "    <tr style=\"text-align: right;\">\n",
              "      <th></th>\n",
              "      <th>count</th>\n",
              "      <th>mean</th>\n",
              "      <th>std</th>\n",
              "      <th>min</th>\n",
              "      <th>25%</th>\n",
              "      <th>50%</th>\n",
              "      <th>75%</th>\n",
              "      <th>max</th>\n",
              "    </tr>\n",
              "    <tr>\n",
              "      <th>Month</th>\n",
              "      <th></th>\n",
              "      <th></th>\n",
              "      <th></th>\n",
              "      <th></th>\n",
              "      <th></th>\n",
              "      <th></th>\n",
              "      <th></th>\n",
              "      <th></th>\n",
              "    </tr>\n",
              "  </thead>\n",
              "  <tbody>\n",
              "    <tr>\n",
              "      <th>1</th>\n",
              "      <td>25296.0</td>\n",
              "      <td>12.070929</td>\n",
              "      <td>4.460499</td>\n",
              "      <td>3.87</td>\n",
              "      <td>9.53</td>\n",
              "      <td>11.23</td>\n",
              "      <td>14.00</td>\n",
              "      <td>31.00</td>\n",
              "    </tr>\n",
              "    <tr>\n",
              "      <th>2</th>\n",
              "      <td>22893.0</td>\n",
              "      <td>11.878158</td>\n",
              "      <td>4.511112</td>\n",
              "      <td>3.87</td>\n",
              "      <td>9.23</td>\n",
              "      <td>11.00</td>\n",
              "      <td>14.00</td>\n",
              "      <td>31.00</td>\n",
              "    </tr>\n",
              "    <tr>\n",
              "      <th>3</th>\n",
              "      <td>23737.0</td>\n",
              "      <td>11.638326</td>\n",
              "      <td>4.205861</td>\n",
              "      <td>4.63</td>\n",
              "      <td>9.00</td>\n",
              "      <td>11.00</td>\n",
              "      <td>13.83</td>\n",
              "      <td>31.00</td>\n",
              "    </tr>\n",
              "    <tr>\n",
              "      <th>4</th>\n",
              "      <td>23222.0</td>\n",
              "      <td>11.658676</td>\n",
              "      <td>4.129347</td>\n",
              "      <td>4.72</td>\n",
              "      <td>9.25</td>\n",
              "      <td>10.93</td>\n",
              "      <td>13.97</td>\n",
              "      <td>30.83</td>\n",
              "    </tr>\n",
              "    <tr>\n",
              "      <th>5</th>\n",
              "      <td>23980.0</td>\n",
              "      <td>11.757688</td>\n",
              "      <td>4.172308</td>\n",
              "      <td>4.70</td>\n",
              "      <td>9.34</td>\n",
              "      <td>11.00</td>\n",
              "      <td>14.00</td>\n",
              "      <td>30.83</td>\n",
              "    </tr>\n",
              "    <tr>\n",
              "      <th>6</th>\n",
              "      <td>24743.0</td>\n",
              "      <td>11.734431</td>\n",
              "      <td>4.099848</td>\n",
              "      <td>4.70</td>\n",
              "      <td>9.50</td>\n",
              "      <td>11.20</td>\n",
              "      <td>13.56</td>\n",
              "      <td>30.83</td>\n",
              "    </tr>\n",
              "    <tr>\n",
              "      <th>7</th>\n",
              "      <td>23309.0</td>\n",
              "      <td>12.118705</td>\n",
              "      <td>4.120257</td>\n",
              "      <td>4.75</td>\n",
              "      <td>9.80</td>\n",
              "      <td>11.38</td>\n",
              "      <td>14.00</td>\n",
              "      <td>30.83</td>\n",
              "    </tr>\n",
              "    <tr>\n",
              "      <th>8</th>\n",
              "      <td>23643.0</td>\n",
              "      <td>12.273533</td>\n",
              "      <td>4.200591</td>\n",
              "      <td>5.27</td>\n",
              "      <td>9.83</td>\n",
              "      <td>11.50</td>\n",
              "      <td>14.00</td>\n",
              "      <td>30.83</td>\n",
              "    </tr>\n",
              "    <tr>\n",
              "      <th>9</th>\n",
              "      <td>21580.0</td>\n",
              "      <td>12.393201</td>\n",
              "      <td>4.346063</td>\n",
              "      <td>5.13</td>\n",
              "      <td>9.83</td>\n",
              "      <td>11.43</td>\n",
              "      <td>14.14</td>\n",
              "      <td>30.83</td>\n",
              "    </tr>\n",
              "    <tr>\n",
              "      <th>10</th>\n",
              "      <td>23415.0</td>\n",
              "      <td>12.362603</td>\n",
              "      <td>4.342316</td>\n",
              "      <td>4.70</td>\n",
              "      <td>9.80</td>\n",
              "      <td>11.38</td>\n",
              "      <td>14.20</td>\n",
              "      <td>30.83</td>\n",
              "    </tr>\n",
              "    <tr>\n",
              "      <th>11</th>\n",
              "      <td>20403.0</td>\n",
              "      <td>12.447028</td>\n",
              "      <td>4.356016</td>\n",
              "      <td>4.03</td>\n",
              "      <td>9.87</td>\n",
              "      <td>11.56</td>\n",
              "      <td>14.23</td>\n",
              "      <td>30.83</td>\n",
              "    </tr>\n",
              "    <tr>\n",
              "      <th>12</th>\n",
              "      <td>22664.0</td>\n",
              "      <td>12.432086</td>\n",
              "      <td>4.363057</td>\n",
              "      <td>4.52</td>\n",
              "      <td>9.83</td>\n",
              "      <td>11.50</td>\n",
              "      <td>14.23</td>\n",
              "      <td>30.83</td>\n",
              "    </tr>\n",
              "  </tbody>\n",
              "</table>\n",
              "</div>\n",
              "    <div class=\"colab-df-buttons\">\n",
              "\n",
              "  <div class=\"colab-df-container\">\n",
              "    <button class=\"colab-df-convert\" onclick=\"convertToInteractive('df-9e748d08-0062-4a68-9578-27ac638e5c20')\"\n",
              "            title=\"Convert this dataframe to an interactive table.\"\n",
              "            style=\"display:none;\">\n",
              "\n",
              "  <svg xmlns=\"http://www.w3.org/2000/svg\" height=\"24px\" viewBox=\"0 -960 960 960\">\n",
              "    <path d=\"M120-120v-720h720v720H120Zm60-500h600v-160H180v160Zm220 220h160v-160H400v160Zm0 220h160v-160H400v160ZM180-400h160v-160H180v160Zm440 0h160v-160H620v160ZM180-180h160v-160H180v160Zm440 0h160v-160H620v160Z\"/>\n",
              "  </svg>\n",
              "    </button>\n",
              "\n",
              "  <style>\n",
              "    .colab-df-container {\n",
              "      display:flex;\n",
              "      gap: 12px;\n",
              "    }\n",
              "\n",
              "    .colab-df-convert {\n",
              "      background-color: #E8F0FE;\n",
              "      border: none;\n",
              "      border-radius: 50%;\n",
              "      cursor: pointer;\n",
              "      display: none;\n",
              "      fill: #1967D2;\n",
              "      height: 32px;\n",
              "      padding: 0 0 0 0;\n",
              "      width: 32px;\n",
              "    }\n",
              "\n",
              "    .colab-df-convert:hover {\n",
              "      background-color: #E2EBFA;\n",
              "      box-shadow: 0px 1px 2px rgba(60, 64, 67, 0.3), 0px 1px 3px 1px rgba(60, 64, 67, 0.15);\n",
              "      fill: #174EA6;\n",
              "    }\n",
              "\n",
              "    .colab-df-buttons div {\n",
              "      margin-bottom: 4px;\n",
              "    }\n",
              "\n",
              "    [theme=dark] .colab-df-convert {\n",
              "      background-color: #3B4455;\n",
              "      fill: #D2E3FC;\n",
              "    }\n",
              "\n",
              "    [theme=dark] .colab-df-convert:hover {\n",
              "      background-color: #434B5C;\n",
              "      box-shadow: 0px 1px 3px 1px rgba(0, 0, 0, 0.15);\n",
              "      filter: drop-shadow(0px 1px 2px rgba(0, 0, 0, 0.3));\n",
              "      fill: #FFFFFF;\n",
              "    }\n",
              "  </style>\n",
              "\n",
              "    <script>\n",
              "      const buttonEl =\n",
              "        document.querySelector('#df-9e748d08-0062-4a68-9578-27ac638e5c20 button.colab-df-convert');\n",
              "      buttonEl.style.display =\n",
              "        google.colab.kernel.accessAllowed ? 'block' : 'none';\n",
              "\n",
              "      async function convertToInteractive(key) {\n",
              "        const element = document.querySelector('#df-9e748d08-0062-4a68-9578-27ac638e5c20');\n",
              "        const dataTable =\n",
              "          await google.colab.kernel.invokeFunction('convertToInteractive',\n",
              "                                                    [key], {});\n",
              "        if (!dataTable) return;\n",
              "\n",
              "        const docLinkHtml = 'Like what you see? Visit the ' +\n",
              "          '<a target=\"_blank\" href=https://colab.research.google.com/notebooks/data_table.ipynb>data table notebook</a>'\n",
              "          + ' to learn more about interactive tables.';\n",
              "        element.innerHTML = '';\n",
              "        dataTable['output_type'] = 'display_data';\n",
              "        await google.colab.output.renderOutput(dataTable, element);\n",
              "        const docLink = document.createElement('div');\n",
              "        docLink.innerHTML = docLinkHtml;\n",
              "        element.appendChild(docLink);\n",
              "      }\n",
              "    </script>\n",
              "  </div>\n",
              "\n",
              "\n",
              "<div id=\"df-3e936928-9c5f-439f-9da7-ce521a6fb18e\">\n",
              "  <button class=\"colab-df-quickchart\" onclick=\"quickchart('df-3e936928-9c5f-439f-9da7-ce521a6fb18e')\"\n",
              "            title=\"Suggest charts\"\n",
              "            style=\"display:none;\">\n",
              "\n",
              "<svg xmlns=\"http://www.w3.org/2000/svg\" height=\"24px\"viewBox=\"0 0 24 24\"\n",
              "     width=\"24px\">\n",
              "    <g>\n",
              "        <path d=\"M19 3H5c-1.1 0-2 .9-2 2v14c0 1.1.9 2 2 2h14c1.1 0 2-.9 2-2V5c0-1.1-.9-2-2-2zM9 17H7v-7h2v7zm4 0h-2V7h2v10zm4 0h-2v-4h2v4z\"/>\n",
              "    </g>\n",
              "</svg>\n",
              "  </button>\n",
              "\n",
              "<style>\n",
              "  .colab-df-quickchart {\n",
              "      --bg-color: #E8F0FE;\n",
              "      --fill-color: #1967D2;\n",
              "      --hover-bg-color: #E2EBFA;\n",
              "      --hover-fill-color: #174EA6;\n",
              "      --disabled-fill-color: #AAA;\n",
              "      --disabled-bg-color: #DDD;\n",
              "  }\n",
              "\n",
              "  [theme=dark] .colab-df-quickchart {\n",
              "      --bg-color: #3B4455;\n",
              "      --fill-color: #D2E3FC;\n",
              "      --hover-bg-color: #434B5C;\n",
              "      --hover-fill-color: #FFFFFF;\n",
              "      --disabled-bg-color: #3B4455;\n",
              "      --disabled-fill-color: #666;\n",
              "  }\n",
              "\n",
              "  .colab-df-quickchart {\n",
              "    background-color: var(--bg-color);\n",
              "    border: none;\n",
              "    border-radius: 50%;\n",
              "    cursor: pointer;\n",
              "    display: none;\n",
              "    fill: var(--fill-color);\n",
              "    height: 32px;\n",
              "    padding: 0;\n",
              "    width: 32px;\n",
              "  }\n",
              "\n",
              "  .colab-df-quickchart:hover {\n",
              "    background-color: var(--hover-bg-color);\n",
              "    box-shadow: 0 1px 2px rgba(60, 64, 67, 0.3), 0 1px 3px 1px rgba(60, 64, 67, 0.15);\n",
              "    fill: var(--button-hover-fill-color);\n",
              "  }\n",
              "\n",
              "  .colab-df-quickchart-complete:disabled,\n",
              "  .colab-df-quickchart-complete:disabled:hover {\n",
              "    background-color: var(--disabled-bg-color);\n",
              "    fill: var(--disabled-fill-color);\n",
              "    box-shadow: none;\n",
              "  }\n",
              "\n",
              "  .colab-df-spinner {\n",
              "    border: 2px solid var(--fill-color);\n",
              "    border-color: transparent;\n",
              "    border-bottom-color: var(--fill-color);\n",
              "    animation:\n",
              "      spin 1s steps(1) infinite;\n",
              "  }\n",
              "\n",
              "  @keyframes spin {\n",
              "    0% {\n",
              "      border-color: transparent;\n",
              "      border-bottom-color: var(--fill-color);\n",
              "      border-left-color: var(--fill-color);\n",
              "    }\n",
              "    20% {\n",
              "      border-color: transparent;\n",
              "      border-left-color: var(--fill-color);\n",
              "      border-top-color: var(--fill-color);\n",
              "    }\n",
              "    30% {\n",
              "      border-color: transparent;\n",
              "      border-left-color: var(--fill-color);\n",
              "      border-top-color: var(--fill-color);\n",
              "      border-right-color: var(--fill-color);\n",
              "    }\n",
              "    40% {\n",
              "      border-color: transparent;\n",
              "      border-right-color: var(--fill-color);\n",
              "      border-top-color: var(--fill-color);\n",
              "    }\n",
              "    60% {\n",
              "      border-color: transparent;\n",
              "      border-right-color: var(--fill-color);\n",
              "    }\n",
              "    80% {\n",
              "      border-color: transparent;\n",
              "      border-right-color: var(--fill-color);\n",
              "      border-bottom-color: var(--fill-color);\n",
              "    }\n",
              "    90% {\n",
              "      border-color: transparent;\n",
              "      border-bottom-color: var(--fill-color);\n",
              "    }\n",
              "  }\n",
              "</style>\n",
              "\n",
              "  <script>\n",
              "    async function quickchart(key) {\n",
              "      const quickchartButtonEl =\n",
              "        document.querySelector('#' + key + ' button');\n",
              "      quickchartButtonEl.disabled = true;  // To prevent multiple clicks.\n",
              "      quickchartButtonEl.classList.add('colab-df-spinner');\n",
              "      try {\n",
              "        const charts = await google.colab.kernel.invokeFunction(\n",
              "            'suggestCharts', [key], {});\n",
              "      } catch (error) {\n",
              "        console.error('Error during call to suggestCharts:', error);\n",
              "      }\n",
              "      quickchartButtonEl.classList.remove('colab-df-spinner');\n",
              "      quickchartButtonEl.classList.add('colab-df-quickchart-complete');\n",
              "    }\n",
              "    (() => {\n",
              "      let quickchartButtonEl =\n",
              "        document.querySelector('#df-3e936928-9c5f-439f-9da7-ce521a6fb18e button');\n",
              "      quickchartButtonEl.style.display =\n",
              "        google.colab.kernel.accessAllowed ? 'block' : 'none';\n",
              "    })();\n",
              "  </script>\n",
              "</div>\n",
              "    </div>\n",
              "  </div>\n"
            ],
            "application/vnd.google.colaboratory.intrinsic+json": {
              "type": "dataframe",
              "summary": "{\n  \"name\": \"df[\\\"Price per kilogram\\\"]\",\n  \"rows\": 12,\n  \"fields\": [\n    {\n      \"column\": \"Month\",\n      \"properties\": {\n        \"dtype\": \"number\",\n        \"std\": 3,\n        \"min\": 1,\n        \"max\": 12,\n        \"num_unique_values\": 12,\n        \"samples\": [\n          11,\n          10,\n          1\n        ],\n        \"semantic_type\": \"\",\n        \"description\": \"\"\n      }\n    },\n    {\n      \"column\": \"count\",\n      \"properties\": {\n        \"dtype\": \"number\",\n        \"std\": 1305.0679159153042,\n        \"min\": 20403.0,\n        \"max\": 25296.0,\n        \"num_unique_values\": 12,\n        \"samples\": [\n          20403.0,\n          23415.0,\n          25296.0\n        ],\n        \"semantic_type\": \"\",\n        \"description\": \"\"\n      }\n    },\n    {\n      \"column\": \"mean\",\n      \"properties\": {\n        \"dtype\": \"number\",\n        \"std\": 0.3175394811967223,\n        \"min\": 11.638326216246242,\n        \"max\": 12.44702782059564,\n        \"num_unique_values\": 12,\n        \"samples\": [\n          12.44702782059564,\n          12.362602862392231,\n          12.07092931097369\n        ],\n        \"semantic_type\": \"\",\n        \"description\": \"\"\n      }\n    },\n    {\n      \"column\": \"std\",\n      \"properties\": {\n        \"dtype\": \"number\",\n        \"std\": 0.13841774839140553,\n        \"min\": 4.099847823421277,\n        \"max\": 4.5111117175536535,\n        \"num_unique_values\": 12,\n        \"samples\": [\n          4.356015588343148,\n          4.342316349334382,\n          4.4604994575057155\n        ],\n        \"semantic_type\": \"\",\n        \"description\": \"\"\n      }\n    },\n    {\n      \"column\": \"min\",\n      \"properties\": {\n        \"dtype\": \"number\",\n        \"std\": 0.4458588919323595,\n        \"min\": 3.87,\n        \"max\": 5.27,\n        \"num_unique_values\": 9,\n        \"samples\": [\n          4.03,\n          4.63,\n          5.27\n        ],\n        \"semantic_type\": \"\",\n        \"description\": \"\"\n      }\n    },\n    {\n      \"column\": \"25%\",\n      \"properties\": {\n        \"dtype\": \"number\",\n        \"std\": 0.3016356923659581,\n        \"min\": 9.0,\n        \"max\": 9.87,\n        \"num_unique_values\": 9,\n        \"samples\": [\n          9.83,\n          9.23,\n          9.5\n        ],\n        \"semantic_type\": \"\",\n        \"description\": \"\"\n      }\n    },\n    {\n      \"column\": \"50%\",\n      \"properties\": {\n        \"dtype\": \"number\",\n        \"std\": 0.22944432215615415,\n        \"min\": 10.93,\n        \"max\": 11.56,\n        \"num_unique_values\": 8,\n        \"samples\": [\n          11.0,\n          11.5,\n          11.23\n        ],\n        \"semantic_type\": \"\",\n        \"description\": \"\"\n      }\n    },\n    {\n      \"column\": \"75%\",\n      \"properties\": {\n        \"dtype\": \"number\",\n        \"std\": 0.18748737331221835,\n        \"min\": 13.56,\n        \"max\": 14.23,\n        \"num_unique_values\": 7,\n        \"samples\": [\n          14.0,\n          13.83,\n          14.2\n        ],\n        \"semantic_type\": \"\",\n        \"description\": \"\"\n      }\n    },\n    {\n      \"column\": \"max\",\n      \"properties\": {\n        \"dtype\": \"number\",\n        \"std\": 0.07688539286733048,\n        \"min\": 30.83,\n        \"max\": 31.0,\n        \"num_unique_values\": 2,\n        \"samples\": [\n          30.83,\n          31.0\n        ],\n        \"semantic_type\": \"\",\n        \"description\": \"\"\n      }\n    }\n  ]\n}"
            }
          },
          "metadata": {},
          "execution_count": 79
        }
      ]
    },
    {
      "cell_type": "markdown",
      "source": [
        "## Podział danych"
      ],
      "metadata": {
        "id": "4K3kgG-EeI5k"
      }
    },
    {
      "cell_type": "markdown",
      "source": [
        "Import"
      ],
      "metadata": {
        "id": "qdWf8QnEemG-"
      }
    },
    {
      "cell_type": "code",
      "source": [
        "from sklearn.model_selection import train_test_split"
      ],
      "metadata": {
        "id": "Zpfd6m73eM1H"
      },
      "execution_count": 80,
      "outputs": []
    },
    {
      "cell_type": "markdown",
      "source": [
        "Podział danych na zestaw treningowy i testowy"
      ],
      "metadata": {
        "id": "PrV-Ef2pfA2o"
      }
    },
    {
      "cell_type": "code",
      "source": [
        "X_train, X_test, y_train, y_test = train_test_split(df.drop('Price per kilogram', axis=1), df['Price per kilogram'], test_size=0.15, random_state=42)"
      ],
      "metadata": {
        "id": "Ht__54NbfIfB"
      },
      "execution_count": 81,
      "outputs": []
    },
    {
      "cell_type": "markdown",
      "source": [
        "Podział zestawu treningowego na treningowy i walidacyjny"
      ],
      "metadata": {
        "id": "ntbHbb1-fWXp"
      }
    },
    {
      "cell_type": "code",
      "source": [
        "X_train, X_val, y_train, y_val = train_test_split(X_train, y_train, test_size=0.176, random_state=42)"
      ],
      "metadata": {
        "id": "YYwV49KXfYt1"
      },
      "execution_count": 82,
      "outputs": []
    },
    {
      "cell_type": "markdown",
      "source": [
        "Sprawdzenie rozmiarów zestawów danych"
      ],
      "metadata": {
        "id": "JvQXyxQTfnwh"
      }
    },
    {
      "cell_type": "code",
      "source": [
        "print(\"Rozmiar zestawu treningowego:\", X_train.shape)\n",
        "print(\"Rozmiar zestawu walidacyjnego:\", X_val.shape)\n",
        "print(\"Rozmiar zestawu testowego:\", X_test.shape)"
      ],
      "metadata": {
        "colab": {
          "base_uri": "https://localhost:8080/"
        },
        "id": "ksMI7pTtfeU5",
        "outputId": "9a95aa7b-b9e1-4aac-951f-9cbb8821d1f1"
      },
      "execution_count": 83,
      "outputs": [
        {
          "output_type": "stream",
          "name": "stdout",
          "text": [
            "Rozmiar zestawu treningowego: (195330, 6)\n",
            "Rozmiar zestawu walidacyjnego: (41722, 6)\n",
            "Rozmiar zestawu testowego: (41833, 6)\n"
          ]
        }
      ]
    },
    {
      "cell_type": "markdown",
      "source": [
        "## Uczenie modelu"
      ],
      "metadata": {
        "id": "USOqW3ASgfoR"
      }
    },
    {
      "cell_type": "markdown",
      "source": [
        "Importy"
      ],
      "metadata": {
        "id": "FU5m7ew0lfPy"
      }
    },
    {
      "cell_type": "code",
      "source": [
        "from sklearn.metrics import mean_absolute_error, mean_squared_error, r2_score\n",
        "from sklearn.ensemble import RandomForestRegressor;"
      ],
      "metadata": {
        "id": "VHzRwnahlaI0"
      },
      "execution_count": 84,
      "outputs": []
    },
    {
      "cell_type": "markdown",
      "source": [
        "Inicjacja modelu"
      ],
      "metadata": {
        "id": "AyoFbA6olmBC"
      }
    },
    {
      "cell_type": "code",
      "source": [
        "model = RandomForestRegressor(n_estimators=100, max_depth=10, random_state=42);"
      ],
      "metadata": {
        "id": "F_cXODnBgR0g"
      },
      "execution_count": 85,
      "outputs": []
    },
    {
      "cell_type": "markdown",
      "source": [
        "Trenowanie modelu"
      ],
      "metadata": {
        "id": "UPmEQtxrlo6K"
      }
    },
    {
      "cell_type": "code",
      "source": [
        "model.fit(X_train, y_train);"
      ],
      "metadata": {
        "id": "LCq9qi_0gtwB"
      },
      "execution_count": 86,
      "outputs": []
    },
    {
      "cell_type": "markdown",
      "source": [
        "Ewaluacja modelu"
      ],
      "metadata": {
        "id": "zdfzVSTclr9j"
      }
    },
    {
      "cell_type": "code",
      "source": [
        "y_pred = model.predict(X_test);\n",
        "mae = mean_absolute_error(y_test, y_pred);\n",
        "mse = mean_squared_error(y_test, y_pred);\n",
        "r2 = r2_score(y_test, y_pred)\n",
        "print('Mean Absolute Error:', mae);\n",
        "print('Mean Squared Error:', mse);\n",
        "print('R2 Score:', r2)"
      ],
      "metadata": {
        "id": "dHxVd8fBg6NC",
        "colab": {
          "base_uri": "https://localhost:8080/"
        },
        "outputId": "4cb558ea-9515-45c7-8f2e-764e2ab5f454"
      },
      "execution_count": 87,
      "outputs": [
        {
          "output_type": "stream",
          "name": "stdout",
          "text": [
            "Mean Absolute Error: 0.48637237002129163\n",
            "Mean Squared Error: 0.6481759132469896\n",
            "R2 Score: 0.965363348102416\n"
          ]
        }
      ]
    }
  ]
}